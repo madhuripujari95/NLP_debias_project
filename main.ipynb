{
 "cells": [
  {
   "cell_type": "markdown",
   "metadata": {},
   "source": [
    "### Debiasing Vector Embeddings - NLP Project by Madhuri Pujari, Dhruv Agarwal and Harish Pal Chauhan"
   ]
  },
  {
   "cell_type": "markdown",
   "metadata": {},
   "source": [
    "#### Imports"
   ]
  },
  {
   "cell_type": "code",
   "execution_count": 1,
   "metadata": {
    "collapsed": true
   },
   "outputs": [],
   "source": [
    "from __future__ import print_function, division\n",
    "%matplotlib inline\n",
    "from matplotlib import pyplot as plt\n",
    "import json\n",
    "import random\n",
    "import numpy as np\n",
    "import json\n",
    "import os\n",
    "from utilities.word_embeddings import WordEmbedding\n",
    "from utilities.plots import *"
   ]
  },
  {
   "cell_type": "markdown",
   "metadata": {},
   "source": [
    "### 1: Gender Bias in Word Embedding\n",
    "\n",
    "\n",
    "### Load data\n",
    "Load the word embedding trained on a corpus of Google News. The embedding maps each word into a 300-dimension vector. "
   ]
  },
  {
   "cell_type": "code",
   "execution_count": 2,
   "metadata": {},
   "outputs": [],
   "source": [
    "\n",
    "def load_professions():\n",
    "    '''\n",
    "       load data from profession.json \n",
    "    '''\n",
    "    professions_file = os.path.join('./data', 'professions.json')\n",
    "    with open(professions_file, 'r') as f:\n",
    "        professions = json.load(f)\n",
    "    # print('Loaded professions\\n' +\n",
    "    #       'Format:\\n' +\n",
    "    #       'word,\\n' +\n",
    "    #       'definitional female -1.0 -> definitional male 1.0\\n' +\n",
    "    #       'stereotypical female -1.0 -> stereotypical male 1.0')\n",
    "    return professions\n"
   ]
  },
  {
   "cell_type": "code",
   "execution_count": 3,
   "metadata": {},
   "outputs": [
    {
     "name": "stdout",
     "output_type": "stream",
     "text": [
      "(26423, 300)\n"
     ]
    }
   ],
   "source": [
    "# load google news word2vec\n",
    "E = WordEmbedding()\n",
    "E.load_embeddings('./embeddings/w2v_gnews_small.txt')\n",
    "\n",
    "\n",
    "# load professions\n",
    "professions = load_professions()\n",
    "profession_words = [p[0] for p in professions]"
   ]
  },
  {
   "cell_type": "markdown",
   "metadata": {},
   "source": [
    "### word2index method returns index value of a word from vocab dictionary"
   ]
  },
  {
   "cell_type": "code",
   "execution_count": 4,
   "metadata": {},
   "outputs": [
    {
     "name": "stdout",
     "output_type": "stream",
     "text": [
      "18\n"
     ]
    }
   ],
   "source": [
    "print(E.word2index['he'])"
   ]
  },
  {
   "cell_type": "markdown",
   "metadata": {},
   "source": [
    "### 2: Define gender direction\n",
    "\n",
    "she - he define a generic gender direction in the vector space. The paper discusses alternative approach for defining gender direction e.g. by using PCA."
   ]
  },
  {
   "cell_type": "code",
   "execution_count": 5,
   "metadata": {
    "collapsed": true
   },
   "outputs": [],
   "source": [
    "# gender direction\n",
    "v_gender = E.diff('she', 'he')"
   ]
  },
  {
   "cell_type": "code",
   "execution_count": 6,
   "metadata": {},
   "outputs": [],
   "source": [
    "# import scipy\n",
    "# vecs = E.embeddings[:50000]\n",
    "# dots1 = vecs.dot(vecs.T)\n",
    "# print(dots1.shape)\n",
    "# dots2 = scipy.sparse.csr_matrix(dots1 * (dots1 >= 1 - 1/2))\n",
    "# print(dots2.shape)"
   ]
  },
  {
   "cell_type": "code",
   "execution_count": 7,
   "metadata": {},
   "outputs": [],
   "source": [
    "# from collections import Counter\n",
    "# rows, cols = dots.nonzero()\n",
    "# print(rows, cols)\n",
    "# nums = list(Counter(rows).values())\n",
    "# nums"
   ]
  },
  {
   "cell_type": "code",
   "execution_count": 8,
   "metadata": {},
   "outputs": [],
   "source": [
    "# dots.data.shape"
   ]
  },
  {
   "cell_type": "code",
   "execution_count": 9,
   "metadata": {},
   "outputs": [],
   "source": [
    "# rows, cols, vecs = zip(*[(i, j, vecs[i]-vecs[j]) for i, j, x in zip(rows, cols, dots.data) if i<j])"
   ]
  },
  {
   "cell_type": "markdown",
   "metadata": {},
   "source": [
    "### 3: Generating analogies of \"Man: x :: Woman : y\"\n",
    "\n",
    "To generate the analogy pairs, we use the analogy score defined in the paper. This score finds word pairs that are well aligned with gender direction as well as within a short distance from each other to preserve topic consistency. \n"
   ]
  },
  {
   "cell_type": "code",
   "execution_count": 10,
   "metadata": {},
   "outputs": [
    {
     "name": "stdout",
     "output_type": "stream",
     "text": [
      "Computing neighbors\n"
     ]
    }
   ],
   "source": [
    "# analogies gender\n",
    "# a_gender = E.get_analogy_based_thresh(v_gender, topn=20, max_words=100)\n",
    "a_gender = E.get_analogy_based_thresh(v_gender)\n"
   ]
  },
  {
   "cell_type": "markdown",
   "metadata": {},
   "source": [
    "### She occupations and corresponding He occupation signalling the bias"
   ]
  },
  {
   "cell_type": "code",
   "execution_count": 11,
   "metadata": {},
   "outputs": [
    {
     "name": "stdout",
     "output_type": "stream",
     "text": [
      "hairdresser-barber-0.43682787\n",
      "nurse-surgeon-0.37444484\n",
      "sewing-carpentry-0.35139665\n",
      "nanny-chauffeur-0.30954373\n",
      "librarian-curator-0.2307742\n",
      "housekeeper-janitor-0.22288002\n",
      "bookkeeper-treasurer-0.20113158\n"
     ]
    }
   ],
   "source": [
    "she_occupation = ['homemaker', 'nurse', 'receptionist', 'librarian', 'socialite', 'hairdresser', \n",
    "'nanny', 'bookkeeper', 'stylist', 'housekeeper', 'interior designer', 'sewing']\n",
    "\n",
    "for (a,b,c) in a_gender:\n",
    "    if a in she_occupation:\n",
    "        print(a+\"-\"+b+\"-\"+str(c))"
   ]
  },
  {
   "cell_type": "markdown",
   "metadata": {},
   "source": [
    "### 4: Analyzing gender bias in word vectors asscoiated with professions\n",
    "\n",
    "Although unintentional, gender bias exist in many occupations. This has been shown below by projecting these occupation word vectors on the gender dimension."
   ]
  },
  {
   "cell_type": "code",
   "execution_count": 12,
   "metadata": {},
   "outputs": [
    {
     "data": {
      "text/plain": [
       "([(-0.23798445, 'maestro'),\n",
       "  (-0.21665451, 'statesman'),\n",
       "  (-0.20758668, 'skipper'),\n",
       "  (-0.20267203, 'protege'),\n",
       "  (-0.20206761, 'businessman'),\n",
       "  (-0.19492394, 'sportsman'),\n",
       "  (-0.1883635, 'philosopher'),\n",
       "  (-0.18073659, 'marksman'),\n",
       "  (-0.17289859, 'captain'),\n",
       "  (-0.16785556, 'architect'),\n",
       "  (-0.16702038, 'financier'),\n",
       "  (-0.16313638, 'warrior'),\n",
       "  (-0.15280864, 'major_leaguer'),\n",
       "  (-0.15001443, 'trumpeter'),\n",
       "  (-0.14718866, 'broadcaster'),\n",
       "  (-0.14637241, 'magician'),\n",
       "  (-0.14401692, 'fighter_pilot'),\n",
       "  (-0.13782284, 'boss'),\n",
       "  (-0.137182, 'industrialist'),\n",
       "  (-0.13684885, 'pundit')],\n",
       " [(0.19714224, 'interior_designer'),\n",
       "  (0.20833439, 'housekeeper'),\n",
       "  (0.21560374, 'stylist'),\n",
       "  (0.22363168, 'bookkeeper'),\n",
       "  (0.23776127, 'maid'),\n",
       "  (0.24125955, 'nun'),\n",
       "  (0.24782577, 'nanny'),\n",
       "  (0.24929333, 'hairdresser'),\n",
       "  (0.24946159, 'paralegal'),\n",
       "  (0.25276464, 'ballerina'),\n",
       "  (0.2571882, 'socialite'),\n",
       "  (0.26647127, 'librarian'),\n",
       "  (0.27317625, 'receptionist'),\n",
       "  (0.27540293, 'waitress'),\n",
       "  (0.28085965, 'nurse'),\n",
       "  (0.30426234, 'registered_nurse'),\n",
       "  (0.3043797, 'homemaker'),\n",
       "  (0.34036592, 'housewife'),\n",
       "  (0.35235143, 'actress'),\n",
       "  (0.3596541, 'businesswoman')])"
      ]
     },
     "execution_count": 12,
     "metadata": {},
     "output_type": "execute_result"
    }
   ],
   "source": [
    "# profession analysis gender\n",
    "sp = sorted([(E.get_embedding(w).dot(v_gender), w) for w in profession_words])\n",
    "\n",
    "sp[0:20], sp[-20:]"
   ]
  },
  {
   "cell_type": "markdown",
   "metadata": {},
   "source": [
    "### Gender Bias in Profession\n",
    "* He professions are on the negative side of x-axis \n",
    "* She professions are on the positive side of x-axis"
   ]
  },
  {
   "cell_type": "code",
   "execution_count": 13,
   "metadata": {},
   "outputs": [
    {
     "data": {
      "application/vnd.plotly.v1+json": {
       "config": {
        "plotlyServerURL": "https://plot.ly"
       },
       "data": [
        {
         "mode": "markers+text",
         "name": "Markers and Text",
         "text": [
          "maestro",
          "statesman",
          "skipper",
          "protege",
          "businessman",
          "sportsman",
          "philosopher",
          "marksman",
          "captain",
          "architect",
          "financier",
          "warrior",
          "major_leaguer",
          "trumpeter",
          "broadcaster",
          "magician",
          "fighter_pilot",
          "boss",
          "industrialist",
          "pundit",
          "interior_designer",
          "housekeeper",
          "stylist",
          "bookkeeper",
          "maid",
          "nun",
          "nanny",
          "hairdresser",
          "paralegal",
          "ballerina",
          "socialite",
          "librarian",
          "receptionist",
          "waitress",
          "nurse",
          "registered_nurse",
          "homemaker",
          "housewife",
          "actress",
          "businesswoman"
         ],
         "textposition": "bottom center",
         "type": "scatter",
         "x": [
          -1,
          -0.9487179487179487,
          -0.8974358974358975,
          -0.8461538461538461,
          -0.7948717948717949,
          -0.7435897435897436,
          -0.6923076923076923,
          -0.641025641025641,
          -0.5897435897435898,
          -0.5384615384615385,
          -0.4871794871794872,
          -0.4358974358974359,
          -0.3846153846153846,
          -0.33333333333333337,
          -0.28205128205128205,
          -0.23076923076923084,
          -0.17948717948717952,
          -0.1282051282051282,
          -0.07692307692307698,
          -0.02564102564102566,
          0.02564102564102555,
          0.07692307692307687,
          0.1282051282051282,
          0.17948717948717952,
          0.23076923076923084,
          0.28205128205128194,
          0.33333333333333326,
          0.3846153846153846,
          0.4358974358974359,
          0.4871794871794872,
          0.5384615384615383,
          0.5897435897435896,
          0.641025641025641,
          0.6923076923076923,
          0.7435897435897436,
          0.7948717948717947,
          0.846153846153846,
          0.8974358974358974,
          0.9487179487179487,
          1
         ],
         "y": [
          -0.23798444867134094,
          -0.21665450930595398,
          -0.20758667588233948,
          -0.20267203450202942,
          -0.20206761360168457,
          -0.19492393732070923,
          -0.18836350739002228,
          -0.18073658645153046,
          -0.17289859056472778,
          -0.16785556077957153,
          -0.16702038049697876,
          -0.16313637793064117,
          -0.15280863642692566,
          -0.15001443028450012,
          -0.14718866348266602,
          -0.14637240767478943,
          -0.14401692152023315,
          -0.13782283663749695,
          -0.13718199729919434,
          -0.13684885203838348,
          0.19714224338531494,
          0.20833438634872437,
          0.21560373902320862,
          0.22363168001174927,
          0.23776127398014069,
          0.24125954508781433,
          0.2478257715702057,
          0.24929332733154297,
          0.2494615912437439,
          0.25276464223861694,
          0.25718820095062256,
          0.266471266746521,
          0.27317625284194946,
          0.2754029333591461,
          0.28085964918136597,
          0.30426234006881714,
          0.3043797016143799,
          0.3403659164905548,
          0.35235142707824707,
          0.35965409874916077
         ]
        }
       ],
       "layout": {
        "height": 1000,
        "template": {
         "data": {
          "bar": [
           {
            "error_x": {
             "color": "#2a3f5f"
            },
            "error_y": {
             "color": "#2a3f5f"
            },
            "marker": {
             "line": {
              "color": "#E5ECF6",
              "width": 0.5
             },
             "pattern": {
              "fillmode": "overlay",
              "size": 10,
              "solidity": 0.2
             }
            },
            "type": "bar"
           }
          ],
          "barpolar": [
           {
            "marker": {
             "line": {
              "color": "#E5ECF6",
              "width": 0.5
             },
             "pattern": {
              "fillmode": "overlay",
              "size": 10,
              "solidity": 0.2
             }
            },
            "type": "barpolar"
           }
          ],
          "carpet": [
           {
            "aaxis": {
             "endlinecolor": "#2a3f5f",
             "gridcolor": "white",
             "linecolor": "white",
             "minorgridcolor": "white",
             "startlinecolor": "#2a3f5f"
            },
            "baxis": {
             "endlinecolor": "#2a3f5f",
             "gridcolor": "white",
             "linecolor": "white",
             "minorgridcolor": "white",
             "startlinecolor": "#2a3f5f"
            },
            "type": "carpet"
           }
          ],
          "choropleth": [
           {
            "colorbar": {
             "outlinewidth": 0,
             "ticks": ""
            },
            "type": "choropleth"
           }
          ],
          "contour": [
           {
            "colorbar": {
             "outlinewidth": 0,
             "ticks": ""
            },
            "colorscale": [
             [
              0,
              "#0d0887"
             ],
             [
              0.1111111111111111,
              "#46039f"
             ],
             [
              0.2222222222222222,
              "#7201a8"
             ],
             [
              0.3333333333333333,
              "#9c179e"
             ],
             [
              0.4444444444444444,
              "#bd3786"
             ],
             [
              0.5555555555555556,
              "#d8576b"
             ],
             [
              0.6666666666666666,
              "#ed7953"
             ],
             [
              0.7777777777777778,
              "#fb9f3a"
             ],
             [
              0.8888888888888888,
              "#fdca26"
             ],
             [
              1,
              "#f0f921"
             ]
            ],
            "type": "contour"
           }
          ],
          "contourcarpet": [
           {
            "colorbar": {
             "outlinewidth": 0,
             "ticks": ""
            },
            "type": "contourcarpet"
           }
          ],
          "heatmap": [
           {
            "colorbar": {
             "outlinewidth": 0,
             "ticks": ""
            },
            "colorscale": [
             [
              0,
              "#0d0887"
             ],
             [
              0.1111111111111111,
              "#46039f"
             ],
             [
              0.2222222222222222,
              "#7201a8"
             ],
             [
              0.3333333333333333,
              "#9c179e"
             ],
             [
              0.4444444444444444,
              "#bd3786"
             ],
             [
              0.5555555555555556,
              "#d8576b"
             ],
             [
              0.6666666666666666,
              "#ed7953"
             ],
             [
              0.7777777777777778,
              "#fb9f3a"
             ],
             [
              0.8888888888888888,
              "#fdca26"
             ],
             [
              1,
              "#f0f921"
             ]
            ],
            "type": "heatmap"
           }
          ],
          "heatmapgl": [
           {
            "colorbar": {
             "outlinewidth": 0,
             "ticks": ""
            },
            "colorscale": [
             [
              0,
              "#0d0887"
             ],
             [
              0.1111111111111111,
              "#46039f"
             ],
             [
              0.2222222222222222,
              "#7201a8"
             ],
             [
              0.3333333333333333,
              "#9c179e"
             ],
             [
              0.4444444444444444,
              "#bd3786"
             ],
             [
              0.5555555555555556,
              "#d8576b"
             ],
             [
              0.6666666666666666,
              "#ed7953"
             ],
             [
              0.7777777777777778,
              "#fb9f3a"
             ],
             [
              0.8888888888888888,
              "#fdca26"
             ],
             [
              1,
              "#f0f921"
             ]
            ],
            "type": "heatmapgl"
           }
          ],
          "histogram": [
           {
            "marker": {
             "pattern": {
              "fillmode": "overlay",
              "size": 10,
              "solidity": 0.2
             }
            },
            "type": "histogram"
           }
          ],
          "histogram2d": [
           {
            "colorbar": {
             "outlinewidth": 0,
             "ticks": ""
            },
            "colorscale": [
             [
              0,
              "#0d0887"
             ],
             [
              0.1111111111111111,
              "#46039f"
             ],
             [
              0.2222222222222222,
              "#7201a8"
             ],
             [
              0.3333333333333333,
              "#9c179e"
             ],
             [
              0.4444444444444444,
              "#bd3786"
             ],
             [
              0.5555555555555556,
              "#d8576b"
             ],
             [
              0.6666666666666666,
              "#ed7953"
             ],
             [
              0.7777777777777778,
              "#fb9f3a"
             ],
             [
              0.8888888888888888,
              "#fdca26"
             ],
             [
              1,
              "#f0f921"
             ]
            ],
            "type": "histogram2d"
           }
          ],
          "histogram2dcontour": [
           {
            "colorbar": {
             "outlinewidth": 0,
             "ticks": ""
            },
            "colorscale": [
             [
              0,
              "#0d0887"
             ],
             [
              0.1111111111111111,
              "#46039f"
             ],
             [
              0.2222222222222222,
              "#7201a8"
             ],
             [
              0.3333333333333333,
              "#9c179e"
             ],
             [
              0.4444444444444444,
              "#bd3786"
             ],
             [
              0.5555555555555556,
              "#d8576b"
             ],
             [
              0.6666666666666666,
              "#ed7953"
             ],
             [
              0.7777777777777778,
              "#fb9f3a"
             ],
             [
              0.8888888888888888,
              "#fdca26"
             ],
             [
              1,
              "#f0f921"
             ]
            ],
            "type": "histogram2dcontour"
           }
          ],
          "mesh3d": [
           {
            "colorbar": {
             "outlinewidth": 0,
             "ticks": ""
            },
            "type": "mesh3d"
           }
          ],
          "parcoords": [
           {
            "line": {
             "colorbar": {
              "outlinewidth": 0,
              "ticks": ""
             }
            },
            "type": "parcoords"
           }
          ],
          "pie": [
           {
            "automargin": true,
            "type": "pie"
           }
          ],
          "scatter": [
           {
            "fillpattern": {
             "fillmode": "overlay",
             "size": 10,
             "solidity": 0.2
            },
            "type": "scatter"
           }
          ],
          "scatter3d": [
           {
            "line": {
             "colorbar": {
              "outlinewidth": 0,
              "ticks": ""
             }
            },
            "marker": {
             "colorbar": {
              "outlinewidth": 0,
              "ticks": ""
             }
            },
            "type": "scatter3d"
           }
          ],
          "scattercarpet": [
           {
            "marker": {
             "colorbar": {
              "outlinewidth": 0,
              "ticks": ""
             }
            },
            "type": "scattercarpet"
           }
          ],
          "scattergeo": [
           {
            "marker": {
             "colorbar": {
              "outlinewidth": 0,
              "ticks": ""
             }
            },
            "type": "scattergeo"
           }
          ],
          "scattergl": [
           {
            "marker": {
             "colorbar": {
              "outlinewidth": 0,
              "ticks": ""
             }
            },
            "type": "scattergl"
           }
          ],
          "scattermapbox": [
           {
            "marker": {
             "colorbar": {
              "outlinewidth": 0,
              "ticks": ""
             }
            },
            "type": "scattermapbox"
           }
          ],
          "scatterpolar": [
           {
            "marker": {
             "colorbar": {
              "outlinewidth": 0,
              "ticks": ""
             }
            },
            "type": "scatterpolar"
           }
          ],
          "scatterpolargl": [
           {
            "marker": {
             "colorbar": {
              "outlinewidth": 0,
              "ticks": ""
             }
            },
            "type": "scatterpolargl"
           }
          ],
          "scatterternary": [
           {
            "marker": {
             "colorbar": {
              "outlinewidth": 0,
              "ticks": ""
             }
            },
            "type": "scatterternary"
           }
          ],
          "surface": [
           {
            "colorbar": {
             "outlinewidth": 0,
             "ticks": ""
            },
            "colorscale": [
             [
              0,
              "#0d0887"
             ],
             [
              0.1111111111111111,
              "#46039f"
             ],
             [
              0.2222222222222222,
              "#7201a8"
             ],
             [
              0.3333333333333333,
              "#9c179e"
             ],
             [
              0.4444444444444444,
              "#bd3786"
             ],
             [
              0.5555555555555556,
              "#d8576b"
             ],
             [
              0.6666666666666666,
              "#ed7953"
             ],
             [
              0.7777777777777778,
              "#fb9f3a"
             ],
             [
              0.8888888888888888,
              "#fdca26"
             ],
             [
              1,
              "#f0f921"
             ]
            ],
            "type": "surface"
           }
          ],
          "table": [
           {
            "cells": {
             "fill": {
              "color": "#EBF0F8"
             },
             "line": {
              "color": "white"
             }
            },
            "header": {
             "fill": {
              "color": "#C8D4E3"
             },
             "line": {
              "color": "white"
             }
            },
            "type": "table"
           }
          ]
         },
         "layout": {
          "annotationdefaults": {
           "arrowcolor": "#2a3f5f",
           "arrowhead": 0,
           "arrowwidth": 1
          },
          "autotypenumbers": "strict",
          "coloraxis": {
           "colorbar": {
            "outlinewidth": 0,
            "ticks": ""
           }
          },
          "colorscale": {
           "diverging": [
            [
             0,
             "#8e0152"
            ],
            [
             0.1,
             "#c51b7d"
            ],
            [
             0.2,
             "#de77ae"
            ],
            [
             0.3,
             "#f1b6da"
            ],
            [
             0.4,
             "#fde0ef"
            ],
            [
             0.5,
             "#f7f7f7"
            ],
            [
             0.6,
             "#e6f5d0"
            ],
            [
             0.7,
             "#b8e186"
            ],
            [
             0.8,
             "#7fbc41"
            ],
            [
             0.9,
             "#4d9221"
            ],
            [
             1,
             "#276419"
            ]
           ],
           "sequential": [
            [
             0,
             "#0d0887"
            ],
            [
             0.1111111111111111,
             "#46039f"
            ],
            [
             0.2222222222222222,
             "#7201a8"
            ],
            [
             0.3333333333333333,
             "#9c179e"
            ],
            [
             0.4444444444444444,
             "#bd3786"
            ],
            [
             0.5555555555555556,
             "#d8576b"
            ],
            [
             0.6666666666666666,
             "#ed7953"
            ],
            [
             0.7777777777777778,
             "#fb9f3a"
            ],
            [
             0.8888888888888888,
             "#fdca26"
            ],
            [
             1,
             "#f0f921"
            ]
           ],
           "sequentialminus": [
            [
             0,
             "#0d0887"
            ],
            [
             0.1111111111111111,
             "#46039f"
            ],
            [
             0.2222222222222222,
             "#7201a8"
            ],
            [
             0.3333333333333333,
             "#9c179e"
            ],
            [
             0.4444444444444444,
             "#bd3786"
            ],
            [
             0.5555555555555556,
             "#d8576b"
            ],
            [
             0.6666666666666666,
             "#ed7953"
            ],
            [
             0.7777777777777778,
             "#fb9f3a"
            ],
            [
             0.8888888888888888,
             "#fdca26"
            ],
            [
             1,
             "#f0f921"
            ]
           ]
          },
          "colorway": [
           "#636efa",
           "#EF553B",
           "#00cc96",
           "#ab63fa",
           "#FFA15A",
           "#19d3f3",
           "#FF6692",
           "#B6E880",
           "#FF97FF",
           "#FECB52"
          ],
          "font": {
           "color": "#2a3f5f"
          },
          "geo": {
           "bgcolor": "white",
           "lakecolor": "white",
           "landcolor": "#E5ECF6",
           "showlakes": true,
           "showland": true,
           "subunitcolor": "white"
          },
          "hoverlabel": {
           "align": "left"
          },
          "hovermode": "closest",
          "mapbox": {
           "style": "light"
          },
          "paper_bgcolor": "white",
          "plot_bgcolor": "#E5ECF6",
          "polar": {
           "angularaxis": {
            "gridcolor": "white",
            "linecolor": "white",
            "ticks": ""
           },
           "bgcolor": "#E5ECF6",
           "radialaxis": {
            "gridcolor": "white",
            "linecolor": "white",
            "ticks": ""
           }
          },
          "scene": {
           "xaxis": {
            "backgroundcolor": "#E5ECF6",
            "gridcolor": "white",
            "gridwidth": 2,
            "linecolor": "white",
            "showbackground": true,
            "ticks": "",
            "zerolinecolor": "white"
           },
           "yaxis": {
            "backgroundcolor": "#E5ECF6",
            "gridcolor": "white",
            "gridwidth": 2,
            "linecolor": "white",
            "showbackground": true,
            "ticks": "",
            "zerolinecolor": "white"
           },
           "zaxis": {
            "backgroundcolor": "#E5ECF6",
            "gridcolor": "white",
            "gridwidth": 2,
            "linecolor": "white",
            "showbackground": true,
            "ticks": "",
            "zerolinecolor": "white"
           }
          },
          "shapedefaults": {
           "line": {
            "color": "#2a3f5f"
           }
          },
          "ternary": {
           "aaxis": {
            "gridcolor": "white",
            "linecolor": "white",
            "ticks": ""
           },
           "baxis": {
            "gridcolor": "white",
            "linecolor": "white",
            "ticks": ""
           },
           "bgcolor": "#E5ECF6",
           "caxis": {
            "gridcolor": "white",
            "linecolor": "white",
            "ticks": ""
           }
          },
          "title": {
           "x": 0.05
          },
          "xaxis": {
           "automargin": true,
           "gridcolor": "white",
           "linecolor": "white",
           "ticks": "",
           "title": {
            "standoff": 15
           },
           "zerolinecolor": "white",
           "zerolinewidth": 2
          },
          "yaxis": {
           "automargin": true,
           "gridcolor": "white",
           "linecolor": "white",
           "ticks": "",
           "title": {
            "standoff": 15
           },
           "zerolinecolor": "white",
           "zerolinewidth": 2
          }
         }
        },
        "title": {
         "text": "Gender Bias In Profession",
         "x": 0.5
        },
        "width": 1000,
        "xaxis": {
         "title": {
          "text": "Word Extremes"
         }
        },
        "yaxis": {
         "title": {
          "text": "Similarity"
         }
        }
       }
      }
     },
     "metadata": {},
     "output_type": "display_data"
    }
   ],
   "source": [
    "plot_words_extreme(sp[:20], sp[-20:], 40, x_title='Word Extremes', y_title='Similarity', \n",
    "title='Gender Bias In Profession')"
   ]
  },
  {
   "cell_type": "markdown",
   "metadata": {},
   "source": [
    "### Just a test to show how king - man + woman results in a vector which is very close to queen"
   ]
  },
  {
   "cell_type": "code",
   "execution_count": 14,
   "metadata": {},
   "outputs": [
    {
     "name": "stdout",
     "output_type": "stream",
     "text": [
      "Similarity with Queen 0.8006955\n"
     ]
    }
   ],
   "source": [
    "\n",
    "words_list = ['king', 'man', 'woman']\n",
    "embedding_list = []\n",
    "\n",
    "for i in words_list:\n",
    "    ems = E.get_embedding(i)\n",
    "    embedding_list.append(ems)\n",
    "\n",
    "final_embed = embedding_list[0] - embedding_list[1] + embedding_list[2]\n",
    "# print(final_embed.shape)\n",
    "\n",
    "# print(get_me_queen)\n",
    "queen_embed = E.get_embedding('queen')\n",
    "\n",
    "print('Similarity with Queen', final_embed.dot(queen_embed.T))"
   ]
  },
  {
   "cell_type": "markdown",
   "metadata": {},
   "source": [
    "### 5: Racial Bias\n",
    "\n",
    "### Define racial direction\n",
    "The paper define racial direction based on the common names in different Demographic groups. "
   ]
  },
  {
   "cell_type": "code",
   "execution_count": 15,
   "metadata": {
    "collapsed": true
   },
   "outputs": [],
   "source": [
    "names = [\"Emily\", \"Aisha\", \"Anne\", \"Keisha\", \"Jill\", \"Tamika\", \"Allison\", \"Lakisha\", \"Laurie\", \"Tanisha\", \"Sarah\",\n",
    "         \"Latoya\", \"Meredith\", \"Kenya\", \"Carrie\", \"Latonya\", \"Kristen\", \"Ebony\", \"Todd\", \"Rasheed\", \"Neil\", \"Tremayne\",\n",
    "         \"Geoffrey\", \"Kareem\", \"Brett\", \"Darnell\", \"Brendan\", \"Tyrone\", \"Greg\", \"Hakim\", \"Matthew\", \"Jamal\", \"Jay\",\n",
    "         \"Leroy\", \"Brad\", \"Jermaine\"]\n",
    "names_group1 = [names[2 * i] for i in range(len(names) // 2)]\n",
    "names_group2 = [names[2 * i + 1] for i in range(len(names) // 2)]"
   ]
  },
  {
   "cell_type": "code",
   "execution_count": 16,
   "metadata": {
    "collapsed": true
   },
   "outputs": [],
   "source": [
    "# racial direction\n",
    "vs = [sum(E.get_embedding(w) for w in names) for names in (names_group2, names_group1)]\n",
    "vs = [v / np.linalg.norm(v) for v in vs]\n",
    "\n",
    "v_racial = vs[1] - vs[0]\n",
    "v_racial = v_racial / np.linalg.norm(v_racial)"
   ]
  },
  {
   "cell_type": "markdown",
   "metadata": {},
   "source": [
    "### 6: Generating racial biased analogies\n",
    "\n",
    "Similar to Step 3, we generate analogies that align with the racial dimension. "
   ]
  },
  {
   "cell_type": "code",
   "execution_count": 17,
   "metadata": {},
   "outputs": [
    {
     "name": "stdout",
     "output_type": "stream",
     "text": [
      "Sarah-Keisha\n",
      "defensemen-cornerbacks\n",
      "hipster-hip_hop\n",
      "punter-cornerback\n",
      "singer_songwriter-rapper\n",
      "defenseman-defensive_tackle\n",
      "pole_vault-triple_jump\n",
      "musicians-artistes\n",
      "musician-artiste\n",
      "catcher-wide_receiver\n",
      "rock_n_roll-reggae\n",
      "kicker-kick_returner\n",
      "tavern-barbershop\n",
      "freestyle_relay-meter_hurdles\n",
      "lefthander-swingman\n",
      "bacon-fried_chicken\n",
      "artists-rappers\n",
      "equipment-equipments\n",
      "hockey-basketball\n",
      "wool-cotton\n",
      "unassisted_goal-layup\n",
      "chocolates-sweets\n",
      "buddy-cousin\n",
      "priest-preacher\n",
      "blue-black\n",
      "medley_relay-meter_dash\n",
      "quirky-funky\n",
      "rabbi-imam\n",
      "grapes-mango\n",
      "telecommunications-telecommunication\n",
      "pitchers-defensive_linemen\n",
      "passages-verses\n",
      "er-o\n",
      "acoustic-soulful\n",
      "punting-punt_returns\n",
      "thefts-armed_robbery\n",
      "bar-nightclub\n",
      "digs-rebounds\n",
      "Greg-Geoffrey\n",
      "cellist-saxophonist\n",
      "smarts-quickness\n",
      "puck-halfcourt\n",
      "quarterback-tailback\n",
      "fox-leopard\n",
      "pedophiles-rapists\n",
      "potatoes-flour\n",
      "en-el\n",
      "infrastructure-infrastructural\n",
      "evangelism-gospel\n",
      "fiance-aunt\n",
      "pointers-dunks\n",
      "baseman-defensive_lineman\n",
      "pedophile-rapist\n",
      "joked-smiled\n",
      "beer-soft_drink\n",
      "guitarist-singer\n",
      "election-elections\n",
      "snuck-sneaked\n",
      "mobsters-gangster\n",
      "preventative-preventive\n",
      "wrestling-boxing\n",
      "motorbike-taxi_driver\n",
      "wrestler-boxer\n",
      "aviation-civil_aviation\n",
      "grandfather-uncle\n",
      "walleye-crappie\n",
      "speculates-opined\n",
      "evangelical-preachers\n",
      "wild_pitch-ensuing_kickoff\n",
      "literate-illiterate\n",
      "noted-lamented\n",
      "slams-raps\n",
      "shop-shopkeeper\n",
      "heavyweight-welterweight\n",
      "rider-sprinter\n",
      "hammered-thrashed\n",
      "screwed-messed\n",
      "gymnastics-weightlifting\n",
      "noteworthy-worth_mentioning\n",
      "lobsters-crabs\n",
      "taxpayers-tax_payers\n",
      "co_ops-cooperatives\n",
      "currently-presently\n",
      "carpenter-laborer\n",
      "corn-rice\n",
      "heist-robbery\n",
      "exhilarating-electrifying\n",
      "wife-mother\n",
      "affable-jovial\n",
      "admirable-commendable\n",
      "wetlands-marshes\n",
      "families-relatives\n",
      "cheese-yogurt\n",
      "infielders-safeties\n",
      "groin_strain-hamstring_injury\n",
      "effluent-sewerage\n",
      "pinpointed-identified\n",
      "signal_caller-wideout\n",
      "spooked-scared\n",
      "uninformed-uneducated\n",
      "quarterbacks-wide_receivers\n",
      "lineup-starting_lineup\n",
      "communist_regime-dictatorship\n",
      "netminder-striker\n",
      "condominiums-flats\n",
      "sexual_misconduct-rape\n",
      "backline-frontcourt\n",
      "businesspeople-businessmen\n",
      "orchestra-singers\n",
      "elites-rulers\n",
      "empty_netter-free_throws\n",
      "ballots-ballot_boxes\n",
      "shutouts-yards_rushing\n",
      "soy-palm_oil\n",
      "masterful-mesmerizing\n",
      "nationwide-countrywide\n",
      "input-inputs\n",
      "euros-rupees\n",
      "kroner-ringgit\n",
      "geek-dude\n",
      "condo-apartment_complex\n",
      "medalist-bronze_medalist\n",
      "inn-motel\n",
      "misplayed-blocked_punt\n",
      "lobster-shrimp\n",
      "dads-fathers\n",
      "Leroy-Latonya\n",
      "geeks-dudes\n",
      "chiropractor-doctor\n",
      "protecting-guarding\n",
      "urban-slums\n",
      "boutique-hair_salon\n",
      "herring-shad\n",
      "blasting-blaring\n",
      "public_servants-civil_servants\n",
      "shortstop-linebacker\n",
      "strikeouts-sacks\n",
      "misdemeanor_counts-aggravated_assault\n",
      "adults-youths\n",
      "director-chairperson\n",
      "monk-villager\n",
      "errors-turnovers\n",
      "renowned-reputed\n",
      "argues-complains\n",
      "Laurie-Carrie\n",
      "renegade-rebel\n",
      "staffer-aide\n",
      "tram-bus\n",
      "disrepair-dilapidated\n",
      "swanky-posh\n",
      "quipped-retorted\n",
      "consultants-contractors\n",
      "crime_spree-carjacking\n",
      "grad-student\n",
      "felony_counts-attempted_murder\n",
      "hubris-bravado\n",
      "simulcast-telecast\n",
      "racing-drag_racing\n",
      "professors-lecturers\n",
      "noting-stressing\n",
      "priests-clerics\n",
      "markets-bourses\n",
      "kickers-defensive_backs\n",
      "blustery-sweltering\n",
      "unethical-corrupt\n",
      "bureaucrat-civil_servant\n",
      "historian-poet\n",
      "commonly_referred-popularly_known\n",
      "studio-recording_studio\n",
      "stellar-unimpressive\n",
      "nerdy-chubby\n",
      "pedophilia-child_molestation\n",
      "soldiers-policemen\n",
      "gosh-gonna\n",
      "conservative-fundamentalist\n",
      "alpine-mountains\n",
      "chuckle-smile\n",
      "chuckling-smiling\n",
      "summary_judgment-appellant\n",
      "water_polo-badminton\n",
      "individuals-persons\n",
      "pitching-right_hander\n",
      "bittersweet-joyful\n",
      "bested-outclassed\n",
      "mojo-swagger\n",
      "trey-dunk\n",
      "straw_poll-primaries\n",
      "ethanol-sugarcane\n",
      "grandkids-grandmother\n",
      "industrialization-poverty_alleviation\n",
      "thrilled-elated\n",
      "sexually_abusing-raping\n",
      "crook-thug\n",
      "airplane-airliner\n",
      "airplanes-aircrafts\n",
      "said-saying\n",
      "mail-courier\n",
      "season-preseason\n",
      "castle-palace\n",
      "mixed_martial_arts-light_heavyweight\n",
      "poke-poked\n",
      "wrestlers-boxers\n",
      "shacks-slum\n",
      "staffers-aides\n",
      "geese-migratory_birds\n",
      "criminal_mischief-aggravated_robbery\n",
      "communism-imperialism\n",
      "whore-pimp\n",
      "harness_racing-jockey\n",
      "grandpa-mama\n",
      "multiple_sclerosis-lupus\n",
      "punted-yard_punt\n",
      "bouts-knockouts\n",
      "designer-fashion_designer\n",
      "concedes-confesses\n",
      "homily-sermon\n",
      "storm-tropical_storm\n",
      "curriculum-curricula\n",
      "Jill-Mary\n",
      "suggested-intimated\n",
      "filings-periodic_reports\n",
      "alcoholics-drug_addict\n",
      "riff-song\n",
      "dairy-bakery\n",
      "advises-counsels\n",
      "maple_syrup-honey\n",
      "gymnast-dancer\n",
      "hurler-southpaw\n",
      "snowmobiles-wheelers\n",
      "keyboardist-vocalist\n",
      "towns-localities\n",
      "sophomore-redshirt_freshman\n",
      "amphetamines-banned_substance\n",
      "kayak-kite\n",
      "ecosystems-coral_reefs\n",
      "locally_grown-fresh_fruits\n",
      "sectionals-meter_relay\n",
      "euro-rupee\n",
      "herbicides-fertilizers\n",
      "standout-signee\n",
      "conception-womb\n",
      "e_mails-text_messages\n",
      "cadre-cadres\n",
      "round_robin-defending_champions\n",
      "likens-depicts\n",
      "suggests-implies\n",
      "partisans-sympathizers\n",
      "dentist-barber\n",
      "crooks-gangsters\n",
      "groundwater-potable_water\n",
      "skaters-dancers\n",
      "cello-vocalists\n",
      "hot_tub-bathtub\n",
      "angst-bitterness\n",
      "spat-quarrel\n",
      "pumpkin-watermelon\n",
      "sacrifice_bunt-inbounds_pass\n",
      "monks-villagers\n",
      "punts-kickoff_returns\n",
      "ski-giant_slalom\n",
      "renewable_energy-electricity\n",
      "skill-athleticism\n",
      "capitalism-democracy\n",
      "sweaters-clothes\n",
      "genius-greatness\n",
      "homelessness-poverty\n",
      "infectious_disease-dengue\n",
      "rural-poverty_stricken\n",
      "outshot-outrebounded\n",
      "magician-entertainer\n",
      "undecided_voters-superdelegates\n",
      "del-da\n",
      "lingo-slang\n",
      "enthusiastic-energetic\n",
      "ads-promos\n",
      "referencing-reference\n",
      "civil_liberties-civil_rights\n",
      "extremists-militant\n",
      "cottages-bungalows\n",
      "downsizing-retrenchment\n",
      "fascism-colonialism\n",
      "scoreless-foul_trouble\n",
      "organist-hymns\n",
      "disastrous-horrid\n",
      "diocesan-parish\n",
      "discipline-indiscipline\n",
      "perplexed-bewildered\n",
      "im-thats\n",
      "thinkers-intellectuals\n",
      "likened-resembled\n",
      "classmate-younger_brother\n",
      "drunken_driver-motorist\n",
      "explained-clarified\n",
      "ag-agriculture\n",
      "beers-rum\n",
      "fraud-corruption\n",
      "drunk_driving-reckless_driving\n",
      "renovation-beautification\n",
      "floundering-languishing\n",
      "asparagus-eggplant\n",
      "wind_farms-hydropower\n",
      "fireworks-firecrackers\n",
      "geographic-geographical\n",
      "cottage-bungalow\n",
      "enthusiasm-joy\n",
      "continual-continuous\n",
      "ice_rink-swimming_pool\n",
      "bistro-eatery\n",
      "hopefuls-aspirants\n",
      "monasteries-temples\n",
      "explains-informs\n",
      "vodka-fruit_juice\n",
      "pretty-alright\n",
      "admits-confessed\n",
      "anyhow-dont\n",
      "wine-liquor\n",
      "besting-beating\n",
      "ambiance-ambience\n",
      "moron-bitch\n",
      "team-squad\n",
      "concludes-concluding\n",
      "pornography-prostitution\n",
      "egregious-glaring\n",
      "riffs-rhythms\n",
      "conflict-bloodshed\n",
      "boiler-air_conditioner\n",
      "shots-shooting\n",
      "superb-scintillating\n",
      "goalies-offensive_linemen\n",
      "observes-observed\n",
      "refining-petrochemicals\n",
      "voter_fraud-vote_rigging\n",
      "linkage-linkages\n",
      "totalitarian-democratic\n",
      "continually-continuously\n",
      "enemy_combatants-enemy_combatant\n",
      "rabbis-imams\n",
      "curveball-mph_fastball\n",
      "art-artists\n",
      "anyway-wont\n",
      "mean_spirited-racist\n",
      "astute-skilful\n",
      "broken_ribs-bruises\n",
      "yacht-cargo_ship\n",
      "bandmates-album\n",
      "screenwriter-film\n",
      "expats-expatriates\n",
      "whites-blacks\n",
      "alcoholism-drug_addiction\n",
      "bicyclists-pedestrian\n",
      "bloop_single-putback\n",
      "says-insists\n",
      "blond_hair-brown_eyes\n",
      "pig-chicken\n",
      "spaghetti-macaroni\n",
      "denizens-environs\n",
      "advocacy-non_governmental\n",
      "pigs-poultry\n",
      "red-white\n",
      "economic-socio_economic\n",
      "wheels-rims\n",
      "vineyard-orchard\n",
      "chuckled-cried\n",
      "assists-rpg\n",
      "approachable-talkative\n",
      "persecution-marginalization\n",
      "goaltending-backcourt\n",
      "moms-mothers\n",
      "until-till\n",
      "bowling-fast_bowler\n",
      "rotator_cuff-quadriceps\n",
      "serial_killer-murder\n",
      "reprehensible-inhuman\n",
      "wingers-strikers\n",
      "aptly_named-nicknamed\n",
      "repaid-disbursed\n",
      "prose-poetry\n",
      "hopes-hope\n",
      "disdain-disrespect\n",
      "van-minibus\n",
      "rhymes-rap\n",
      "c-b\n",
      "collegiate-college\n",
      "solitude-tranquility\n",
      "facial_injuries-gunshot_wounds\n",
      "winger-playmaker\n",
      "imploded-crumbled\n",
      "fiancee-brother\n",
      "urges-exhorted\n",
      "halfback-nose_tackle\n",
      "meth-crack_cocaine\n",
      "synagogue-mosque\n",
      "pastoral-spiritual\n",
      "abuses-brutality\n",
      "broadband-landline\n",
      "scrum-flanker\n",
      "conjecture-speculations\n",
      "sexual_predators-felons\n",
      "wine_tasting-barbeque\n",
      "deli-convenience_store\n",
      "sanitary-sanitation\n",
      "goals-points\n",
      "regionals-semi_finals\n",
      "sex_offenders-parolees\n",
      "pseudonym-alias\n",
      "brilliant-dazzling\n",
      "trespass-criminal_trespass\n",
      "soggy-humid\n",
      "inaugural-inauguration\n",
      "rabbits-tigers\n",
      "chauffeur-cab_driver\n",
      "innings-overs\n",
      "oil_sands-oilfield\n",
      "village-locality\n",
      "complaint_alleges-indictment_alleges\n",
      "shale_gas-hydrocarbons\n",
      "raw_milk-milk\n",
      "anxiety-hopelessness\n",
      "trolley-taxi\n",
      "investors-traders\n",
      "sickened-killed\n",
      "sexually_abused-raped\n",
      "constituents-constituency\n",
      "skier-athlete\n",
      "heritage-cultural_heritage\n",
      "cheeses-breads\n",
      "producers-importers\n",
      "farms-plantations\n",
      "dissidents-exiles\n",
      "merchants-shopkeepers\n",
      "skiers-athletes\n",
      "jailing-detaining\n",
      "cul_de_sac-neighborhood\n",
      "design-styling\n",
      "lacrosse-football\n",
      "department-directorate\n",
      "piecemeal-haphazard\n",
      "counterattack-attack\n",
      "atheist-religious\n",
      "departments-ministries\n",
      "reckons-reckon\n",
      "hypocrisy-racism\n",
      "spouses-dependents\n",
      "colleague-comrade\n",
      "inappropriate-indecent\n",
      "poker-bingo\n",
      "thoughtful-gentle\n",
      "scarves-headscarf\n",
      "ramifications-repercussions\n",
      "clerks-cashier\n",
      "rifle-pistol\n",
      "travesty-injustice\n",
      "conservatism-fundamentalism\n",
      "barbs-taunts\n",
      "townhouses-storey\n",
      "trombone-saxophone\n",
      "chastised-scolded\n",
      "mused-talked\n",
      "officer-policeman\n",
      "flooding-flash_floods\n",
      "miniscule-paltry\n",
      "battle-fight\n",
      "ordained-pastor\n",
      "folks-fellas\n",
      "parties-factions\n",
      "wastewater-sewage\n",
      "riders-sprinters\n",
      "postcards-leaflets\n",
      "venture_capitalist-entrepreneur\n",
      "headwinds-downside_risks\n",
      "hotly_contested-contested\n",
      "meadow-bushes\n",
      "populist-nationalist\n",
      "insider_trading-bribery\n",
      "twice-thrice\n",
      "mussels-catfish\n",
      "chocolate-sugar\n",
      "ahem-uh\n",
      "ripped-tore\n",
      "centennial-commemoration\n",
      "cramp-cramps\n",
      "winery-bottling\n",
      "vineyards-orchards\n",
      "personable-soft_spoken\n",
      "lavender-fragrant\n",
      "rib_injury-sprained_ankle\n",
      "bars-nightclubs\n",
      "potentially_fatal-fatal\n",
      "bicycling-bicycle\n",
      "consists-comprises\n",
      "pine_trees-palm_trees\n",
      "terrific-decent\n",
      "defensively-rebounder\n",
      "wireless_carriers-telecom_operators\n",
      "ing-ma\n",
      "flavorful-spicy\n",
      "read_aloud-recited\n",
      "backhander-floater\n",
      "matches-dayers\n",
      "incomprehensible-senseless\n"
     ]
    }
   ],
   "source": [
    "# racial analogies\n",
    "a_racial = E.get_analogy_based_thresh(v_racial)\n",
    "\n",
    "for (a,b,c) in a_racial:\n",
    "    print(a+\"-\"+b)"
   ]
  },
  {
   "cell_type": "markdown",
   "metadata": {},
   "source": [
    "### 7: Analyzing racial bias in word vectors asscoiated with professions\n",
    "\n",
    "Similar to Step 4, we project occpurations onto the racial dimension."
   ]
  },
  {
   "cell_type": "code",
   "execution_count": 18,
   "metadata": {},
   "outputs": [
    {
     "data": {
      "text/plain": [
       "([(-0.31546244, 'artiste'),\n",
       "  (-0.27369624, 'shopkeeper'),\n",
       "  (-0.27285585, 'taxi_driver'),\n",
       "  (-0.24248753, 'cab_driver'),\n",
       "  (-0.23096201, 'preacher'),\n",
       "  (-0.21709058, 'boxer'),\n",
       "  (-0.20973532, 'laborer'),\n",
       "  (-0.20361689, 'barber'),\n",
       "  (-0.1962502, 'cleric'),\n",
       "  (-0.182731, 'bodyguard'),\n",
       "  (-0.18250427, 'gangster'),\n",
       "  (-0.1816296, 'singer'),\n",
       "  (-0.16877083, 'maid'),\n",
       "  (-0.16871038, 'entertainer'),\n",
       "  (-0.16197538, 'cabbie'),\n",
       "  (-0.15332885, 'housewife'),\n",
       "  (-0.14839593, 'civil_servant'),\n",
       "  (-0.14115772, 'policeman'),\n",
       "  (-0.13648951, 'minister'),\n",
       "  (-0.13296561, 'drug_addict')],\n",
       " [(0.08779256, 'organist'),\n",
       "  (0.09007452, 'philanthropist'),\n",
       "  (0.09135293, 'cinematographer'),\n",
       "  (0.093180254, 'manager'),\n",
       "  (0.09358391, 'investment_banker'),\n",
       "  (0.096878394, 'professor_emeritus'),\n",
       "  (0.097828984, 'curator'),\n",
       "  (0.098648615, 'freelance_writer'),\n",
       "  (0.099171564, 'programmer'),\n",
       "  (0.10142014, 'screenwriter'),\n",
       "  (0.101988465, 'author'),\n",
       "  (0.10438656, 'inventor'),\n",
       "  (0.106778406, 'adventurer'),\n",
       "  (0.10964736, 'naturalist'),\n",
       "  (0.11089929, 'planner'),\n",
       "  (0.113417216, 'historian'),\n",
       "  (0.12044047, 'adjunct_professor'),\n",
       "  (0.13106446, 'director'),\n",
       "  (0.14140995, 'consultant'),\n",
       "  (0.14241575, 'architect')])"
      ]
     },
     "execution_count": 18,
     "metadata": {},
     "output_type": "execute_result"
    }
   ],
   "source": [
    "# profession analysis racial\n",
    "sp = sorted([(E.get_embedding(w).dot(v_racial), w) for w in profession_words])\n",
    "\n",
    "sp[0:20], sp[-20:]"
   ]
  },
  {
   "cell_type": "code",
   "execution_count": 19,
   "metadata": {},
   "outputs": [
    {
     "data": {
      "application/vnd.plotly.v1+json": {
       "config": {
        "plotlyServerURL": "https://plot.ly"
       },
       "data": [
        {
         "mode": "markers+text",
         "name": "Markers and Text",
         "text": [
          "artiste",
          "shopkeeper",
          "taxi_driver",
          "cab_driver",
          "preacher",
          "boxer",
          "laborer",
          "barber",
          "cleric",
          "bodyguard",
          "gangster",
          "singer",
          "maid",
          "entertainer",
          "cabbie",
          "housewife",
          "civil_servant",
          "policeman",
          "minister",
          "drug_addict",
          "organist",
          "philanthropist",
          "cinematographer",
          "manager",
          "investment_banker",
          "professor_emeritus",
          "curator",
          "freelance_writer",
          "programmer",
          "screenwriter",
          "author",
          "inventor",
          "adventurer",
          "naturalist",
          "planner",
          "historian",
          "adjunct_professor",
          "director",
          "consultant",
          "architect"
         ],
         "textposition": "bottom center",
         "type": "scatter",
         "x": [
          -1,
          -0.9487179487179487,
          -0.8974358974358975,
          -0.8461538461538461,
          -0.7948717948717949,
          -0.7435897435897436,
          -0.6923076923076923,
          -0.641025641025641,
          -0.5897435897435898,
          -0.5384615384615385,
          -0.4871794871794872,
          -0.4358974358974359,
          -0.3846153846153846,
          -0.33333333333333337,
          -0.28205128205128205,
          -0.23076923076923084,
          -0.17948717948717952,
          -0.1282051282051282,
          -0.07692307692307698,
          -0.02564102564102566,
          0.02564102564102555,
          0.07692307692307687,
          0.1282051282051282,
          0.17948717948717952,
          0.23076923076923084,
          0.28205128205128194,
          0.33333333333333326,
          0.3846153846153846,
          0.4358974358974359,
          0.4871794871794872,
          0.5384615384615383,
          0.5897435897435896,
          0.641025641025641,
          0.6923076923076923,
          0.7435897435897436,
          0.7948717948717947,
          0.846153846153846,
          0.8974358974358974,
          0.9487179487179487,
          1
         ],
         "y": [
          -0.3154624402523041,
          -0.27369624376296997,
          -0.27285584807395935,
          -0.24248753488063812,
          -0.23096200823783875,
          -0.21709057688713074,
          -0.20973531901836395,
          -0.2036168873310089,
          -0.19625020027160645,
          -0.1827310025691986,
          -0.18250426650047302,
          -0.18162959814071655,
          -0.16877083480358124,
          -0.1687103807926178,
          -0.16197538375854492,
          -0.15332885086536407,
          -0.14839592576026917,
          -0.14115771651268005,
          -0.13648951053619385,
          -0.13296560943126678,
          0.08779256045818329,
          0.09007451683282852,
          0.0913529321551323,
          0.09318025410175323,
          0.09358391165733337,
          0.09687839448451996,
          0.09782898426055908,
          0.09864861518144608,
          0.09917156398296356,
          0.10142014175653458,
          0.10198846459388733,
          0.10438656061887741,
          0.10677840560674667,
          0.10964736342430115,
          0.11089929193258286,
          0.11341721564531326,
          0.12044046819210052,
          0.13106445968151093,
          0.1414099484682083,
          0.14241574704647064
         ]
        }
       ],
       "layout": {
        "height": 1000,
        "template": {
         "data": {
          "bar": [
           {
            "error_x": {
             "color": "#2a3f5f"
            },
            "error_y": {
             "color": "#2a3f5f"
            },
            "marker": {
             "line": {
              "color": "#E5ECF6",
              "width": 0.5
             },
             "pattern": {
              "fillmode": "overlay",
              "size": 10,
              "solidity": 0.2
             }
            },
            "type": "bar"
           }
          ],
          "barpolar": [
           {
            "marker": {
             "line": {
              "color": "#E5ECF6",
              "width": 0.5
             },
             "pattern": {
              "fillmode": "overlay",
              "size": 10,
              "solidity": 0.2
             }
            },
            "type": "barpolar"
           }
          ],
          "carpet": [
           {
            "aaxis": {
             "endlinecolor": "#2a3f5f",
             "gridcolor": "white",
             "linecolor": "white",
             "minorgridcolor": "white",
             "startlinecolor": "#2a3f5f"
            },
            "baxis": {
             "endlinecolor": "#2a3f5f",
             "gridcolor": "white",
             "linecolor": "white",
             "minorgridcolor": "white",
             "startlinecolor": "#2a3f5f"
            },
            "type": "carpet"
           }
          ],
          "choropleth": [
           {
            "colorbar": {
             "outlinewidth": 0,
             "ticks": ""
            },
            "type": "choropleth"
           }
          ],
          "contour": [
           {
            "colorbar": {
             "outlinewidth": 0,
             "ticks": ""
            },
            "colorscale": [
             [
              0,
              "#0d0887"
             ],
             [
              0.1111111111111111,
              "#46039f"
             ],
             [
              0.2222222222222222,
              "#7201a8"
             ],
             [
              0.3333333333333333,
              "#9c179e"
             ],
             [
              0.4444444444444444,
              "#bd3786"
             ],
             [
              0.5555555555555556,
              "#d8576b"
             ],
             [
              0.6666666666666666,
              "#ed7953"
             ],
             [
              0.7777777777777778,
              "#fb9f3a"
             ],
             [
              0.8888888888888888,
              "#fdca26"
             ],
             [
              1,
              "#f0f921"
             ]
            ],
            "type": "contour"
           }
          ],
          "contourcarpet": [
           {
            "colorbar": {
             "outlinewidth": 0,
             "ticks": ""
            },
            "type": "contourcarpet"
           }
          ],
          "heatmap": [
           {
            "colorbar": {
             "outlinewidth": 0,
             "ticks": ""
            },
            "colorscale": [
             [
              0,
              "#0d0887"
             ],
             [
              0.1111111111111111,
              "#46039f"
             ],
             [
              0.2222222222222222,
              "#7201a8"
             ],
             [
              0.3333333333333333,
              "#9c179e"
             ],
             [
              0.4444444444444444,
              "#bd3786"
             ],
             [
              0.5555555555555556,
              "#d8576b"
             ],
             [
              0.6666666666666666,
              "#ed7953"
             ],
             [
              0.7777777777777778,
              "#fb9f3a"
             ],
             [
              0.8888888888888888,
              "#fdca26"
             ],
             [
              1,
              "#f0f921"
             ]
            ],
            "type": "heatmap"
           }
          ],
          "heatmapgl": [
           {
            "colorbar": {
             "outlinewidth": 0,
             "ticks": ""
            },
            "colorscale": [
             [
              0,
              "#0d0887"
             ],
             [
              0.1111111111111111,
              "#46039f"
             ],
             [
              0.2222222222222222,
              "#7201a8"
             ],
             [
              0.3333333333333333,
              "#9c179e"
             ],
             [
              0.4444444444444444,
              "#bd3786"
             ],
             [
              0.5555555555555556,
              "#d8576b"
             ],
             [
              0.6666666666666666,
              "#ed7953"
             ],
             [
              0.7777777777777778,
              "#fb9f3a"
             ],
             [
              0.8888888888888888,
              "#fdca26"
             ],
             [
              1,
              "#f0f921"
             ]
            ],
            "type": "heatmapgl"
           }
          ],
          "histogram": [
           {
            "marker": {
             "pattern": {
              "fillmode": "overlay",
              "size": 10,
              "solidity": 0.2
             }
            },
            "type": "histogram"
           }
          ],
          "histogram2d": [
           {
            "colorbar": {
             "outlinewidth": 0,
             "ticks": ""
            },
            "colorscale": [
             [
              0,
              "#0d0887"
             ],
             [
              0.1111111111111111,
              "#46039f"
             ],
             [
              0.2222222222222222,
              "#7201a8"
             ],
             [
              0.3333333333333333,
              "#9c179e"
             ],
             [
              0.4444444444444444,
              "#bd3786"
             ],
             [
              0.5555555555555556,
              "#d8576b"
             ],
             [
              0.6666666666666666,
              "#ed7953"
             ],
             [
              0.7777777777777778,
              "#fb9f3a"
             ],
             [
              0.8888888888888888,
              "#fdca26"
             ],
             [
              1,
              "#f0f921"
             ]
            ],
            "type": "histogram2d"
           }
          ],
          "histogram2dcontour": [
           {
            "colorbar": {
             "outlinewidth": 0,
             "ticks": ""
            },
            "colorscale": [
             [
              0,
              "#0d0887"
             ],
             [
              0.1111111111111111,
              "#46039f"
             ],
             [
              0.2222222222222222,
              "#7201a8"
             ],
             [
              0.3333333333333333,
              "#9c179e"
             ],
             [
              0.4444444444444444,
              "#bd3786"
             ],
             [
              0.5555555555555556,
              "#d8576b"
             ],
             [
              0.6666666666666666,
              "#ed7953"
             ],
             [
              0.7777777777777778,
              "#fb9f3a"
             ],
             [
              0.8888888888888888,
              "#fdca26"
             ],
             [
              1,
              "#f0f921"
             ]
            ],
            "type": "histogram2dcontour"
           }
          ],
          "mesh3d": [
           {
            "colorbar": {
             "outlinewidth": 0,
             "ticks": ""
            },
            "type": "mesh3d"
           }
          ],
          "parcoords": [
           {
            "line": {
             "colorbar": {
              "outlinewidth": 0,
              "ticks": ""
             }
            },
            "type": "parcoords"
           }
          ],
          "pie": [
           {
            "automargin": true,
            "type": "pie"
           }
          ],
          "scatter": [
           {
            "fillpattern": {
             "fillmode": "overlay",
             "size": 10,
             "solidity": 0.2
            },
            "type": "scatter"
           }
          ],
          "scatter3d": [
           {
            "line": {
             "colorbar": {
              "outlinewidth": 0,
              "ticks": ""
             }
            },
            "marker": {
             "colorbar": {
              "outlinewidth": 0,
              "ticks": ""
             }
            },
            "type": "scatter3d"
           }
          ],
          "scattercarpet": [
           {
            "marker": {
             "colorbar": {
              "outlinewidth": 0,
              "ticks": ""
             }
            },
            "type": "scattercarpet"
           }
          ],
          "scattergeo": [
           {
            "marker": {
             "colorbar": {
              "outlinewidth": 0,
              "ticks": ""
             }
            },
            "type": "scattergeo"
           }
          ],
          "scattergl": [
           {
            "marker": {
             "colorbar": {
              "outlinewidth": 0,
              "ticks": ""
             }
            },
            "type": "scattergl"
           }
          ],
          "scattermapbox": [
           {
            "marker": {
             "colorbar": {
              "outlinewidth": 0,
              "ticks": ""
             }
            },
            "type": "scattermapbox"
           }
          ],
          "scatterpolar": [
           {
            "marker": {
             "colorbar": {
              "outlinewidth": 0,
              "ticks": ""
             }
            },
            "type": "scatterpolar"
           }
          ],
          "scatterpolargl": [
           {
            "marker": {
             "colorbar": {
              "outlinewidth": 0,
              "ticks": ""
             }
            },
            "type": "scatterpolargl"
           }
          ],
          "scatterternary": [
           {
            "marker": {
             "colorbar": {
              "outlinewidth": 0,
              "ticks": ""
             }
            },
            "type": "scatterternary"
           }
          ],
          "surface": [
           {
            "colorbar": {
             "outlinewidth": 0,
             "ticks": ""
            },
            "colorscale": [
             [
              0,
              "#0d0887"
             ],
             [
              0.1111111111111111,
              "#46039f"
             ],
             [
              0.2222222222222222,
              "#7201a8"
             ],
             [
              0.3333333333333333,
              "#9c179e"
             ],
             [
              0.4444444444444444,
              "#bd3786"
             ],
             [
              0.5555555555555556,
              "#d8576b"
             ],
             [
              0.6666666666666666,
              "#ed7953"
             ],
             [
              0.7777777777777778,
              "#fb9f3a"
             ],
             [
              0.8888888888888888,
              "#fdca26"
             ],
             [
              1,
              "#f0f921"
             ]
            ],
            "type": "surface"
           }
          ],
          "table": [
           {
            "cells": {
             "fill": {
              "color": "#EBF0F8"
             },
             "line": {
              "color": "white"
             }
            },
            "header": {
             "fill": {
              "color": "#C8D4E3"
             },
             "line": {
              "color": "white"
             }
            },
            "type": "table"
           }
          ]
         },
         "layout": {
          "annotationdefaults": {
           "arrowcolor": "#2a3f5f",
           "arrowhead": 0,
           "arrowwidth": 1
          },
          "autotypenumbers": "strict",
          "coloraxis": {
           "colorbar": {
            "outlinewidth": 0,
            "ticks": ""
           }
          },
          "colorscale": {
           "diverging": [
            [
             0,
             "#8e0152"
            ],
            [
             0.1,
             "#c51b7d"
            ],
            [
             0.2,
             "#de77ae"
            ],
            [
             0.3,
             "#f1b6da"
            ],
            [
             0.4,
             "#fde0ef"
            ],
            [
             0.5,
             "#f7f7f7"
            ],
            [
             0.6,
             "#e6f5d0"
            ],
            [
             0.7,
             "#b8e186"
            ],
            [
             0.8,
             "#7fbc41"
            ],
            [
             0.9,
             "#4d9221"
            ],
            [
             1,
             "#276419"
            ]
           ],
           "sequential": [
            [
             0,
             "#0d0887"
            ],
            [
             0.1111111111111111,
             "#46039f"
            ],
            [
             0.2222222222222222,
             "#7201a8"
            ],
            [
             0.3333333333333333,
             "#9c179e"
            ],
            [
             0.4444444444444444,
             "#bd3786"
            ],
            [
             0.5555555555555556,
             "#d8576b"
            ],
            [
             0.6666666666666666,
             "#ed7953"
            ],
            [
             0.7777777777777778,
             "#fb9f3a"
            ],
            [
             0.8888888888888888,
             "#fdca26"
            ],
            [
             1,
             "#f0f921"
            ]
           ],
           "sequentialminus": [
            [
             0,
             "#0d0887"
            ],
            [
             0.1111111111111111,
             "#46039f"
            ],
            [
             0.2222222222222222,
             "#7201a8"
            ],
            [
             0.3333333333333333,
             "#9c179e"
            ],
            [
             0.4444444444444444,
             "#bd3786"
            ],
            [
             0.5555555555555556,
             "#d8576b"
            ],
            [
             0.6666666666666666,
             "#ed7953"
            ],
            [
             0.7777777777777778,
             "#fb9f3a"
            ],
            [
             0.8888888888888888,
             "#fdca26"
            ],
            [
             1,
             "#f0f921"
            ]
           ]
          },
          "colorway": [
           "#636efa",
           "#EF553B",
           "#00cc96",
           "#ab63fa",
           "#FFA15A",
           "#19d3f3",
           "#FF6692",
           "#B6E880",
           "#FF97FF",
           "#FECB52"
          ],
          "font": {
           "color": "#2a3f5f"
          },
          "geo": {
           "bgcolor": "white",
           "lakecolor": "white",
           "landcolor": "#E5ECF6",
           "showlakes": true,
           "showland": true,
           "subunitcolor": "white"
          },
          "hoverlabel": {
           "align": "left"
          },
          "hovermode": "closest",
          "mapbox": {
           "style": "light"
          },
          "paper_bgcolor": "white",
          "plot_bgcolor": "#E5ECF6",
          "polar": {
           "angularaxis": {
            "gridcolor": "white",
            "linecolor": "white",
            "ticks": ""
           },
           "bgcolor": "#E5ECF6",
           "radialaxis": {
            "gridcolor": "white",
            "linecolor": "white",
            "ticks": ""
           }
          },
          "scene": {
           "xaxis": {
            "backgroundcolor": "#E5ECF6",
            "gridcolor": "white",
            "gridwidth": 2,
            "linecolor": "white",
            "showbackground": true,
            "ticks": "",
            "zerolinecolor": "white"
           },
           "yaxis": {
            "backgroundcolor": "#E5ECF6",
            "gridcolor": "white",
            "gridwidth": 2,
            "linecolor": "white",
            "showbackground": true,
            "ticks": "",
            "zerolinecolor": "white"
           },
           "zaxis": {
            "backgroundcolor": "#E5ECF6",
            "gridcolor": "white",
            "gridwidth": 2,
            "linecolor": "white",
            "showbackground": true,
            "ticks": "",
            "zerolinecolor": "white"
           }
          },
          "shapedefaults": {
           "line": {
            "color": "#2a3f5f"
           }
          },
          "ternary": {
           "aaxis": {
            "gridcolor": "white",
            "linecolor": "white",
            "ticks": ""
           },
           "baxis": {
            "gridcolor": "white",
            "linecolor": "white",
            "ticks": ""
           },
           "bgcolor": "#E5ECF6",
           "caxis": {
            "gridcolor": "white",
            "linecolor": "white",
            "ticks": ""
           }
          },
          "title": {
           "x": 0.05
          },
          "xaxis": {
           "automargin": true,
           "gridcolor": "white",
           "linecolor": "white",
           "ticks": "",
           "title": {
            "standoff": 15
           },
           "zerolinecolor": "white",
           "zerolinewidth": 2
          },
          "yaxis": {
           "automargin": true,
           "gridcolor": "white",
           "linecolor": "white",
           "ticks": "",
           "title": {
            "standoff": 15
           },
           "zerolinecolor": "white",
           "zerolinewidth": 2
          }
         }
        },
        "title": {
         "text": "Racial Bias In Profession",
         "x": 0.5
        },
        "width": 1000,
        "xaxis": {
         "title": {
          "text": "Word Extremes"
         }
        },
        "yaxis": {
         "title": {
          "text": "Similarity"
         }
        }
       }
      }
     },
     "metadata": {},
     "output_type": "display_data"
    }
   ],
   "source": [
    "plot_words_extreme(sp[:20], sp[-20:], 40, x_title='Word Extremes', y_title='Similarity', \n",
    "title='Racial Bias In Profession')"
   ]
  },
  {
   "cell_type": "markdown",
   "metadata": {
    "collapsed": true
   },
   "source": [
    "### 8: Debiasing\n",
    "\n",
    "Repeat Step 2-4 with debiased word embedding. \n",
    "\n",
    "You can leave equalize_pairs and gender_specific_words blank when coming up with your own groups. We give an example for the case of gender below for you to warm up."
   ]
  },
  {
   "cell_type": "code",
   "execution_count": 20,
   "metadata": {
    "collapsed": true
   },
   "outputs": [],
   "source": [
    "from sklearn.decomposition import PCA\n",
    "\n",
    "def find_direction(pairs, embedding, num_components = 10):\n",
    "    '''\n",
    "        \n",
    "    '''\n",
    "    matrix = []\n",
    "    for a, b in pairs:\n",
    "        center = (embedding.get_embedding(a) + embedding.get_embedding(b))/2\n",
    "        matrix.append(embedding.get_embedding(a) - center)\n",
    "        matrix.append(embedding.get_embedding(b) - center)\n",
    "    matrix = np.array(matrix)\n",
    "    pca = PCA(n_components = num_components)\n",
    "    pca.fit(matrix)\n",
    "    # bar(range(num_components), pca.explained_variance_ratio_)\n",
    "    return pca\n",
    "\n",
    "def drop(u, v):\n",
    "    return u - v * u.dot(v) / v.dot(v)\n",
    "\n",
    "def debias_embeddings(E, gender_specific_words, definitional, equalize):\n",
    "    gender_direction = find_direction(definitional, E).components_[0]\n",
    "    specific_set = set(gender_specific_words)\n",
    "    for i, w in enumerate(E.words):\n",
    "        if w not in specific_set:\n",
    "            E.embeddings[i] = drop(E.embeddings[i], gender_direction)\n",
    "    E.normalize()\n",
    "    candidates = {x for e1, e2 in equalize for x in [(e1.lower(), e2.lower()),\n",
    "                                                     (e1.title(), e2.title()),\n",
    "                                                     (e1.upper(), e2.upper())]}\n",
    "    print(candidates)\n",
    "    for (a, b) in candidates:\n",
    "        if (a in E.word2index and b in E.word2index):\n",
    "            y = drop((E.get_embedding(a) + E.get_embedding(b)) / 2, gender_direction)\n",
    "            z = np.sqrt(1 - np.linalg.norm(y)**2)\n",
    "            if (E.get_embedding(a) - E.get_embedding(b)).dot(gender_direction) < 0:\n",
    "                z = -z\n",
    "            E.embeddings[E.word2index[a]] = z * gender_direction + y\n",
    "            E.embeddings[E.word2index[b]] = -z * gender_direction + y\n",
    "    E.normalize()\n"
   ]
  },
  {
   "cell_type": "code",
   "execution_count": 21,
   "metadata": {},
   "outputs": [
    {
     "name": "stdout",
     "output_type": "stream",
     "text": [
      "definitional [['woman', 'man'], ['girl', 'boy'], ['she', 'he'], ['mother', 'father'], ['daughter', 'son'], ['gal', 'guy'], ['female', 'male'], ['her', 'his'], ['herself', 'himself'], ['Mary', 'John']]\n",
      "gender specific 218 ['actress', 'actresses', 'aunt', 'aunts', 'bachelor', 'ballerina', 'barbershop', 'baritone', 'beard', 'beards']\n"
     ]
    }
   ],
   "source": [
    "# Lets load some gender related word lists to help us with debiasing\n",
    "with open('./data/definitional_pairs.json', \"r\") as f:\n",
    "    defs = json.load(f)\n",
    "print(\"definitional\", defs)\n",
    "\n",
    "with open('./data/equalize_pairs.json', \"r\") as f:\n",
    "    equalize_pairs = json.load(f)\n",
    "\n",
    "with open('./data/gender_specific_seed.json', \"r\") as f:\n",
    "    gender_specific_words = json.load(f)\n",
    "print(\"gender specific\", len(gender_specific_words), gender_specific_words[:10])"
   ]
  },
  {
   "cell_type": "code",
   "execution_count": 22,
   "metadata": {},
   "outputs": [
    {
     "name": "stdout",
     "output_type": "stream",
     "text": [
      "{('BOY', 'GIRL'), ('Grandsons', 'Granddaughters'), ('Father', 'Mother'), ('Grandson', 'Granddaughter'), ('Colt', 'Filly'), ('MALE', 'FEMALE'), ('fraternity', 'sorority'), ('uncle', 'aunt'), ('GRANDPA', 'GRANDMA'), ('Spokesman', 'Spokeswoman'), ('brothers', 'sisters'), ('GRANDFATHER', 'GRANDMOTHER'), ('MAN', 'WOMAN'), ('Himself', 'Herself'), ('Businessman', 'Businesswoman'), ('Son', 'Daughter'), ('congressman', 'congresswoman'), ('prostate_cancer', 'ovarian_cancer'), ('prince', 'princess'), ('fella', 'granny'), ('himself', 'herself'), ('TWIN_BROTHER', 'TWIN_SISTER'), ('Uncle', 'Aunt'), ('spokesman', 'spokeswoman'), ('Brothers', 'Sisters'), ('DADS', 'MOMS'), ('HIS', 'HER'), ('NEPHEW', 'NIECE'), ('wives', 'husbands'), ('HIMSELF', 'HERSELF'), ('Congressman', 'Congresswoman'), ('schoolboy', 'schoolgirl'), ('DAD', 'MOM'), ('KING', 'QUEEN'), ('testosterone', 'estrogen'), ('Dads', 'Moms'), ('gelding', 'mare'), ('GRANDSON', 'GRANDDAUGHTER'), ('BOYS', 'GIRLS'), ('SPOKESMAN', 'SPOKESWOMAN'), ('man', 'woman'), ('EX_GIRLFRIEND', 'EX_BOYFRIEND'), ('grandpa', 'grandma'), ('He', 'She'), ('dads', 'moms'), ('chairman', 'chairwoman'), ('PROSTATE_CANCER', 'OVARIAN_CANCER'), ('Sons', 'Daughters'), ('ex_girlfriend', 'ex_boyfriend'), ('BROTHER', 'SISTER'), ('Wives', 'Husbands'), ('Grandpa', 'Grandma'), ('dudes', 'gals'), ('fatherhood', 'motherhood'), ('gentlemen', 'ladies'), ('Prostate_Cancer', 'Ovarian_Cancer'), ('HE', 'SHE'), ('Boy', 'Girl'), ('TESTOSTERONE', 'ESTROGEN'), ('Chairman', 'Chairwoman'), ('Grandfather', 'Grandmother'), ('WIVES', 'HUSBANDS'), ('Fatherhood', 'Motherhood'), ('his', 'her'), ('grandsons', 'granddaughters'), ('males', 'females'), ('Male', 'Female'), ('Councilman', 'Councilwoman'), ('councilman', 'councilwoman'), ('Males', 'Females'), ('COUNCILMAN', 'COUNCILWOMAN'), ('FATHERS', 'MOTHERS'), ('BROTHERS', 'SISTERS'), ('CATHOLIC_PRIEST', 'NUN'), ('boy', 'girl'), ('GENTLEMEN', 'LADIES'), ('Schoolboy', 'Schoolgirl'), ('father', 'mother'), ('Fathers', 'Mothers'), ('businessman', 'businesswoman'), ('sons', 'daughters'), ('men', 'women'), ('Nephew', 'Niece'), ('he', 'she'), ('KINGS', 'QUEENS'), ('FRATERNITY', 'SORORITY'), ('colt', 'filly'), ('COLT', 'FILLY'), ('SCHOOLBOY', 'SCHOOLGIRL'), ('Men', 'Women'), ('Prince', 'Princess'), ('Fella', 'Granny'), ('GRANDSONS', 'GRANDDAUGHTERS'), ('Gentleman', 'Lady'), ('CONGRESSMAN', 'CONGRESSWOMAN'), ('Gentlemen', 'Ladies'), ('MONASTERY', 'CONVENT'), ('Testosterone', 'Estrogen'), ('Man', 'Woman'), ('GENTLEMAN', 'LADY'), ('dad', 'mom'), ('Fraternity', 'Sorority'), ('GELDING', 'MARE'), ('Dad', 'Mom'), ('monastery', 'convent'), ('boys', 'girls'), ('Brother', 'Sister'), ('grandfather', 'grandmother'), ('His', 'Her'), ('BUSINESSMAN', 'BUSINESSWOMAN'), ('Catholic_Priest', 'Nun'), ('kings', 'queens'), ('PRINCE', 'PRINCESS'), ('FATHER', 'MOTHER'), ('Dudes', 'Gals'), ('Ex_Girlfriend', 'Ex_Boyfriend'), ('MEN', 'WOMEN'), ('CHAIRMAN', 'CHAIRWOMAN'), ('brother', 'sister'), ('catholic_priest', 'nun'), ('DUDES', 'GALS'), ('FELLA', 'GRANNY'), ('Boys', 'Girls'), ('SONS', 'DAUGHTERS'), ('fathers', 'mothers'), ('male', 'female'), ('UNCLE', 'AUNT'), ('Twin_Brother', 'Twin_Sister'), ('grandson', 'granddaughter'), ('King', 'Queen'), ('MALES', 'FEMALES'), ('SON', 'DAUGHTER'), ('twin_brother', 'twin_sister'), ('Gelding', 'Mare'), ('king', 'queen'), ('gentleman', 'lady'), ('nephew', 'niece'), ('FATHERHOOD', 'MOTHERHOOD'), ('son', 'daughter'), ('Kings', 'Queens'), ('Monastery', 'Convent')}\n"
     ]
    }
   ],
   "source": [
    "debias_embeddings(E, gender_specific_words, defs, equalize_pairs)"
   ]
  },
  {
   "cell_type": "code",
   "execution_count": 23,
   "metadata": {},
   "outputs": [
    {
     "data": {
      "text/plain": [
       "([(-0.41963255, 'congressman'),\n",
       "  (-0.4067585, 'businessman'),\n",
       "  (-0.32398778, 'councilman'),\n",
       "  (-0.30967093, 'dad'),\n",
       "  (-0.21665451, 'statesman'),\n",
       "  (-0.11345412, 'salesman'),\n",
       "  (-0.07300485, 'monk'),\n",
       "  (-0.072163954, 'handyman'),\n",
       "  (-0.049468227, 'minister'),\n",
       "  (-0.0435838, 'archbishop'),\n",
       "  (-0.040207177, 'bishop'),\n",
       "  (-0.038332473, 'commissioner'),\n",
       "  (-0.035724334, 'surgeon'),\n",
       "  (-0.033133987, 'trader'),\n",
       "  (-0.032377183, 'observer'),\n",
       "  (-0.032095842, 'neurosurgeon'),\n",
       "  (-0.031450097, 'priest'),\n",
       "  (-0.031134002, 'skipper'),\n",
       "  (-0.029659105, 'lawmaker'),\n",
       "  (-0.029511211, 'commander')],\n",
       " [(0.029965647, 'teenager'),\n",
       "  (0.030237056, 'instructor'),\n",
       "  (0.030946203, 'student'),\n",
       "  (0.031116977, 'paralegal'),\n",
       "  (0.03203943, 'bookkeeper'),\n",
       "  (0.032434605, 'cinematographer'),\n",
       "  (0.034329113, 'graphic_designer'),\n",
       "  (0.034705695, 'lifeguard'),\n",
       "  (0.035666473, 'janitor'),\n",
       "  (0.03597185, 'drummer'),\n",
       "  (0.042120118, 'wrestler'),\n",
       "  (0.043902304, 'hairdresser'),\n",
       "  (0.04813315, 'firefighter'),\n",
       "  (0.2377613, 'maid'),\n",
       "  (0.24125957, 'nun'),\n",
       "  (0.25276467, 'ballerina'),\n",
       "  (0.27540293, 'waitress'),\n",
       "  (0.34036583, 'housewife'),\n",
       "  (0.35235143, 'actress'),\n",
       "  (0.41210842, 'businesswoman')])"
      ]
     },
     "execution_count": 23,
     "metadata": {},
     "output_type": "execute_result"
    }
   ],
   "source": [
    "# profession analysis gender\n",
    "sp_debiased = sorted([(E.get_embedding(w).dot(v_gender), w) for w in profession_words])\n",
    "\n",
    "sp_debiased[0:20], sp_debiased[-20:]"
   ]
  },
  {
   "cell_type": "code",
   "execution_count": 24,
   "metadata": {},
   "outputs": [
    {
     "data": {
      "application/vnd.plotly.v1+json": {
       "config": {
        "plotlyServerURL": "https://plot.ly"
       },
       "data": [
        {
         "mode": "markers+text",
         "name": "Markers and Text",
         "text": [
          "congressman",
          "businessman",
          "councilman",
          "dad",
          "statesman",
          "salesman",
          "monk",
          "handyman",
          "minister",
          "archbishop",
          "bishop",
          "commissioner",
          "surgeon",
          "trader",
          "observer",
          "neurosurgeon",
          "priest",
          "skipper",
          "lawmaker",
          "commander",
          "teenager",
          "instructor",
          "student",
          "paralegal",
          "bookkeeper",
          "cinematographer",
          "graphic_designer",
          "lifeguard",
          "janitor",
          "drummer",
          "wrestler",
          "hairdresser",
          "firefighter",
          "maid",
          "nun",
          "ballerina",
          "waitress",
          "housewife",
          "actress",
          "businesswoman"
         ],
         "textposition": "bottom center",
         "type": "scatter",
         "x": [
          -1,
          -0.9487179487179487,
          -0.8974358974358975,
          -0.8461538461538461,
          -0.7948717948717949,
          -0.7435897435897436,
          -0.6923076923076923,
          -0.641025641025641,
          -0.5897435897435898,
          -0.5384615384615385,
          -0.4871794871794872,
          -0.4358974358974359,
          -0.3846153846153846,
          -0.33333333333333337,
          -0.28205128205128205,
          -0.23076923076923084,
          -0.17948717948717952,
          -0.1282051282051282,
          -0.07692307692307698,
          -0.02564102564102566,
          0.02564102564102555,
          0.07692307692307687,
          0.1282051282051282,
          0.17948717948717952,
          0.23076923076923084,
          0.28205128205128194,
          0.33333333333333326,
          0.3846153846153846,
          0.4358974358974359,
          0.4871794871794872,
          0.5384615384615383,
          0.5897435897435896,
          0.641025641025641,
          0.6923076923076923,
          0.7435897435897436,
          0.7948717948717947,
          0.846153846153846,
          0.8974358974358974,
          0.9487179487179487,
          1
         ],
         "y": [
          -0.41963255405426025,
          -0.40675848722457886,
          -0.32398778200149536,
          -0.30967092514038086,
          -0.21665450930595398,
          -0.11345411837100983,
          -0.07300484925508499,
          -0.07216395437717438,
          -0.04946822673082352,
          -0.04358379915356636,
          -0.04020717740058899,
          -0.03833247348666191,
          -0.03572433441877365,
          -0.033133987337350845,
          -0.03237718343734741,
          -0.03209584206342697,
          -0.031450096517801285,
          -0.031134001910686493,
          -0.029659105464816093,
          -0.029511211439967155,
          0.02996564656496048,
          0.03023705631494522,
          0.03094620257616043,
          0.031116977334022522,
          0.03203942999243736,
          0.032434605062007904,
          0.034329112619161606,
          0.034705694764852524,
          0.03566647320985794,
          0.03597185015678406,
          0.04212011769413948,
          0.04390230402350426,
          0.04813314974308014,
          0.23776130378246307,
          0.24125957489013672,
          0.25276467204093933,
          0.2754029333591461,
          0.34036582708358765,
          0.35235142707824707,
          0.4121084213256836
         ]
        }
       ],
       "layout": {
        "height": 1000,
        "template": {
         "data": {
          "bar": [
           {
            "error_x": {
             "color": "#2a3f5f"
            },
            "error_y": {
             "color": "#2a3f5f"
            },
            "marker": {
             "line": {
              "color": "#E5ECF6",
              "width": 0.5
             },
             "pattern": {
              "fillmode": "overlay",
              "size": 10,
              "solidity": 0.2
             }
            },
            "type": "bar"
           }
          ],
          "barpolar": [
           {
            "marker": {
             "line": {
              "color": "#E5ECF6",
              "width": 0.5
             },
             "pattern": {
              "fillmode": "overlay",
              "size": 10,
              "solidity": 0.2
             }
            },
            "type": "barpolar"
           }
          ],
          "carpet": [
           {
            "aaxis": {
             "endlinecolor": "#2a3f5f",
             "gridcolor": "white",
             "linecolor": "white",
             "minorgridcolor": "white",
             "startlinecolor": "#2a3f5f"
            },
            "baxis": {
             "endlinecolor": "#2a3f5f",
             "gridcolor": "white",
             "linecolor": "white",
             "minorgridcolor": "white",
             "startlinecolor": "#2a3f5f"
            },
            "type": "carpet"
           }
          ],
          "choropleth": [
           {
            "colorbar": {
             "outlinewidth": 0,
             "ticks": ""
            },
            "type": "choropleth"
           }
          ],
          "contour": [
           {
            "colorbar": {
             "outlinewidth": 0,
             "ticks": ""
            },
            "colorscale": [
             [
              0,
              "#0d0887"
             ],
             [
              0.1111111111111111,
              "#46039f"
             ],
             [
              0.2222222222222222,
              "#7201a8"
             ],
             [
              0.3333333333333333,
              "#9c179e"
             ],
             [
              0.4444444444444444,
              "#bd3786"
             ],
             [
              0.5555555555555556,
              "#d8576b"
             ],
             [
              0.6666666666666666,
              "#ed7953"
             ],
             [
              0.7777777777777778,
              "#fb9f3a"
             ],
             [
              0.8888888888888888,
              "#fdca26"
             ],
             [
              1,
              "#f0f921"
             ]
            ],
            "type": "contour"
           }
          ],
          "contourcarpet": [
           {
            "colorbar": {
             "outlinewidth": 0,
             "ticks": ""
            },
            "type": "contourcarpet"
           }
          ],
          "heatmap": [
           {
            "colorbar": {
             "outlinewidth": 0,
             "ticks": ""
            },
            "colorscale": [
             [
              0,
              "#0d0887"
             ],
             [
              0.1111111111111111,
              "#46039f"
             ],
             [
              0.2222222222222222,
              "#7201a8"
             ],
             [
              0.3333333333333333,
              "#9c179e"
             ],
             [
              0.4444444444444444,
              "#bd3786"
             ],
             [
              0.5555555555555556,
              "#d8576b"
             ],
             [
              0.6666666666666666,
              "#ed7953"
             ],
             [
              0.7777777777777778,
              "#fb9f3a"
             ],
             [
              0.8888888888888888,
              "#fdca26"
             ],
             [
              1,
              "#f0f921"
             ]
            ],
            "type": "heatmap"
           }
          ],
          "heatmapgl": [
           {
            "colorbar": {
             "outlinewidth": 0,
             "ticks": ""
            },
            "colorscale": [
             [
              0,
              "#0d0887"
             ],
             [
              0.1111111111111111,
              "#46039f"
             ],
             [
              0.2222222222222222,
              "#7201a8"
             ],
             [
              0.3333333333333333,
              "#9c179e"
             ],
             [
              0.4444444444444444,
              "#bd3786"
             ],
             [
              0.5555555555555556,
              "#d8576b"
             ],
             [
              0.6666666666666666,
              "#ed7953"
             ],
             [
              0.7777777777777778,
              "#fb9f3a"
             ],
             [
              0.8888888888888888,
              "#fdca26"
             ],
             [
              1,
              "#f0f921"
             ]
            ],
            "type": "heatmapgl"
           }
          ],
          "histogram": [
           {
            "marker": {
             "pattern": {
              "fillmode": "overlay",
              "size": 10,
              "solidity": 0.2
             }
            },
            "type": "histogram"
           }
          ],
          "histogram2d": [
           {
            "colorbar": {
             "outlinewidth": 0,
             "ticks": ""
            },
            "colorscale": [
             [
              0,
              "#0d0887"
             ],
             [
              0.1111111111111111,
              "#46039f"
             ],
             [
              0.2222222222222222,
              "#7201a8"
             ],
             [
              0.3333333333333333,
              "#9c179e"
             ],
             [
              0.4444444444444444,
              "#bd3786"
             ],
             [
              0.5555555555555556,
              "#d8576b"
             ],
             [
              0.6666666666666666,
              "#ed7953"
             ],
             [
              0.7777777777777778,
              "#fb9f3a"
             ],
             [
              0.8888888888888888,
              "#fdca26"
             ],
             [
              1,
              "#f0f921"
             ]
            ],
            "type": "histogram2d"
           }
          ],
          "histogram2dcontour": [
           {
            "colorbar": {
             "outlinewidth": 0,
             "ticks": ""
            },
            "colorscale": [
             [
              0,
              "#0d0887"
             ],
             [
              0.1111111111111111,
              "#46039f"
             ],
             [
              0.2222222222222222,
              "#7201a8"
             ],
             [
              0.3333333333333333,
              "#9c179e"
             ],
             [
              0.4444444444444444,
              "#bd3786"
             ],
             [
              0.5555555555555556,
              "#d8576b"
             ],
             [
              0.6666666666666666,
              "#ed7953"
             ],
             [
              0.7777777777777778,
              "#fb9f3a"
             ],
             [
              0.8888888888888888,
              "#fdca26"
             ],
             [
              1,
              "#f0f921"
             ]
            ],
            "type": "histogram2dcontour"
           }
          ],
          "mesh3d": [
           {
            "colorbar": {
             "outlinewidth": 0,
             "ticks": ""
            },
            "type": "mesh3d"
           }
          ],
          "parcoords": [
           {
            "line": {
             "colorbar": {
              "outlinewidth": 0,
              "ticks": ""
             }
            },
            "type": "parcoords"
           }
          ],
          "pie": [
           {
            "automargin": true,
            "type": "pie"
           }
          ],
          "scatter": [
           {
            "fillpattern": {
             "fillmode": "overlay",
             "size": 10,
             "solidity": 0.2
            },
            "type": "scatter"
           }
          ],
          "scatter3d": [
           {
            "line": {
             "colorbar": {
              "outlinewidth": 0,
              "ticks": ""
             }
            },
            "marker": {
             "colorbar": {
              "outlinewidth": 0,
              "ticks": ""
             }
            },
            "type": "scatter3d"
           }
          ],
          "scattercarpet": [
           {
            "marker": {
             "colorbar": {
              "outlinewidth": 0,
              "ticks": ""
             }
            },
            "type": "scattercarpet"
           }
          ],
          "scattergeo": [
           {
            "marker": {
             "colorbar": {
              "outlinewidth": 0,
              "ticks": ""
             }
            },
            "type": "scattergeo"
           }
          ],
          "scattergl": [
           {
            "marker": {
             "colorbar": {
              "outlinewidth": 0,
              "ticks": ""
             }
            },
            "type": "scattergl"
           }
          ],
          "scattermapbox": [
           {
            "marker": {
             "colorbar": {
              "outlinewidth": 0,
              "ticks": ""
             }
            },
            "type": "scattermapbox"
           }
          ],
          "scatterpolar": [
           {
            "marker": {
             "colorbar": {
              "outlinewidth": 0,
              "ticks": ""
             }
            },
            "type": "scatterpolar"
           }
          ],
          "scatterpolargl": [
           {
            "marker": {
             "colorbar": {
              "outlinewidth": 0,
              "ticks": ""
             }
            },
            "type": "scatterpolargl"
           }
          ],
          "scatterternary": [
           {
            "marker": {
             "colorbar": {
              "outlinewidth": 0,
              "ticks": ""
             }
            },
            "type": "scatterternary"
           }
          ],
          "surface": [
           {
            "colorbar": {
             "outlinewidth": 0,
             "ticks": ""
            },
            "colorscale": [
             [
              0,
              "#0d0887"
             ],
             [
              0.1111111111111111,
              "#46039f"
             ],
             [
              0.2222222222222222,
              "#7201a8"
             ],
             [
              0.3333333333333333,
              "#9c179e"
             ],
             [
              0.4444444444444444,
              "#bd3786"
             ],
             [
              0.5555555555555556,
              "#d8576b"
             ],
             [
              0.6666666666666666,
              "#ed7953"
             ],
             [
              0.7777777777777778,
              "#fb9f3a"
             ],
             [
              0.8888888888888888,
              "#fdca26"
             ],
             [
              1,
              "#f0f921"
             ]
            ],
            "type": "surface"
           }
          ],
          "table": [
           {
            "cells": {
             "fill": {
              "color": "#EBF0F8"
             },
             "line": {
              "color": "white"
             }
            },
            "header": {
             "fill": {
              "color": "#C8D4E3"
             },
             "line": {
              "color": "white"
             }
            },
            "type": "table"
           }
          ]
         },
         "layout": {
          "annotationdefaults": {
           "arrowcolor": "#2a3f5f",
           "arrowhead": 0,
           "arrowwidth": 1
          },
          "autotypenumbers": "strict",
          "coloraxis": {
           "colorbar": {
            "outlinewidth": 0,
            "ticks": ""
           }
          },
          "colorscale": {
           "diverging": [
            [
             0,
             "#8e0152"
            ],
            [
             0.1,
             "#c51b7d"
            ],
            [
             0.2,
             "#de77ae"
            ],
            [
             0.3,
             "#f1b6da"
            ],
            [
             0.4,
             "#fde0ef"
            ],
            [
             0.5,
             "#f7f7f7"
            ],
            [
             0.6,
             "#e6f5d0"
            ],
            [
             0.7,
             "#b8e186"
            ],
            [
             0.8,
             "#7fbc41"
            ],
            [
             0.9,
             "#4d9221"
            ],
            [
             1,
             "#276419"
            ]
           ],
           "sequential": [
            [
             0,
             "#0d0887"
            ],
            [
             0.1111111111111111,
             "#46039f"
            ],
            [
             0.2222222222222222,
             "#7201a8"
            ],
            [
             0.3333333333333333,
             "#9c179e"
            ],
            [
             0.4444444444444444,
             "#bd3786"
            ],
            [
             0.5555555555555556,
             "#d8576b"
            ],
            [
             0.6666666666666666,
             "#ed7953"
            ],
            [
             0.7777777777777778,
             "#fb9f3a"
            ],
            [
             0.8888888888888888,
             "#fdca26"
            ],
            [
             1,
             "#f0f921"
            ]
           ],
           "sequentialminus": [
            [
             0,
             "#0d0887"
            ],
            [
             0.1111111111111111,
             "#46039f"
            ],
            [
             0.2222222222222222,
             "#7201a8"
            ],
            [
             0.3333333333333333,
             "#9c179e"
            ],
            [
             0.4444444444444444,
             "#bd3786"
            ],
            [
             0.5555555555555556,
             "#d8576b"
            ],
            [
             0.6666666666666666,
             "#ed7953"
            ],
            [
             0.7777777777777778,
             "#fb9f3a"
            ],
            [
             0.8888888888888888,
             "#fdca26"
            ],
            [
             1,
             "#f0f921"
            ]
           ]
          },
          "colorway": [
           "#636efa",
           "#EF553B",
           "#00cc96",
           "#ab63fa",
           "#FFA15A",
           "#19d3f3",
           "#FF6692",
           "#B6E880",
           "#FF97FF",
           "#FECB52"
          ],
          "font": {
           "color": "#2a3f5f"
          },
          "geo": {
           "bgcolor": "white",
           "lakecolor": "white",
           "landcolor": "#E5ECF6",
           "showlakes": true,
           "showland": true,
           "subunitcolor": "white"
          },
          "hoverlabel": {
           "align": "left"
          },
          "hovermode": "closest",
          "mapbox": {
           "style": "light"
          },
          "paper_bgcolor": "white",
          "plot_bgcolor": "#E5ECF6",
          "polar": {
           "angularaxis": {
            "gridcolor": "white",
            "linecolor": "white",
            "ticks": ""
           },
           "bgcolor": "#E5ECF6",
           "radialaxis": {
            "gridcolor": "white",
            "linecolor": "white",
            "ticks": ""
           }
          },
          "scene": {
           "xaxis": {
            "backgroundcolor": "#E5ECF6",
            "gridcolor": "white",
            "gridwidth": 2,
            "linecolor": "white",
            "showbackground": true,
            "ticks": "",
            "zerolinecolor": "white"
           },
           "yaxis": {
            "backgroundcolor": "#E5ECF6",
            "gridcolor": "white",
            "gridwidth": 2,
            "linecolor": "white",
            "showbackground": true,
            "ticks": "",
            "zerolinecolor": "white"
           },
           "zaxis": {
            "backgroundcolor": "#E5ECF6",
            "gridcolor": "white",
            "gridwidth": 2,
            "linecolor": "white",
            "showbackground": true,
            "ticks": "",
            "zerolinecolor": "white"
           }
          },
          "shapedefaults": {
           "line": {
            "color": "#2a3f5f"
           }
          },
          "ternary": {
           "aaxis": {
            "gridcolor": "white",
            "linecolor": "white",
            "ticks": ""
           },
           "baxis": {
            "gridcolor": "white",
            "linecolor": "white",
            "ticks": ""
           },
           "bgcolor": "#E5ECF6",
           "caxis": {
            "gridcolor": "white",
            "linecolor": "white",
            "ticks": ""
           }
          },
          "title": {
           "x": 0.05
          },
          "xaxis": {
           "automargin": true,
           "gridcolor": "white",
           "linecolor": "white",
           "ticks": "",
           "title": {
            "standoff": 15
           },
           "zerolinecolor": "white",
           "zerolinewidth": 2
          },
          "yaxis": {
           "automargin": true,
           "gridcolor": "white",
           "linecolor": "white",
           "ticks": "",
           "title": {
            "standoff": 15
           },
           "zerolinecolor": "white",
           "zerolinewidth": 2
          }
         }
        },
        "title": {
         "text": "Debiased Gender - Profession",
         "x": 0.5
        },
        "width": 1000,
        "xaxis": {
         "title": {
          "text": "Word Extremes"
         }
        },
        "yaxis": {
         "title": {
          "text": "Similarity"
         }
        }
       }
      }
     },
     "metadata": {},
     "output_type": "display_data"
    }
   ],
   "source": [
    "plot_words_extreme(sp_debiased[:20], sp_debiased[-20:], 40, x_title='Word Extremes', y_title='Similarity', \n",
    "title='Debiased Gender - Profession')"
   ]
  },
  {
   "cell_type": "code",
   "execution_count": 25,
   "metadata": {},
   "outputs": [
    {
     "name": "stdout",
     "output_type": "stream",
     "text": [
      "she::he\n",
      "herself::himself\n",
      "her::his\n",
      "woman::man\n",
      "daughter::son\n",
      "businesswoman::businessman\n",
      "girl::boy\n",
      "actress::actor\n",
      "chairwoman::chairman\n",
      "heroine::hero\n",
      "mother::father\n",
      "spokeswoman::spokesman\n",
      "sister::brother\n",
      "girls::boys\n",
      "sisters::brothers\n",
      "queen::king\n",
      "niece::nephew\n",
      "councilwoman::councilman\n",
      "motherhood::fatherhood\n",
      "women::men\n",
      "petite::lanky\n",
      "ovarian_cancer::prostate_cancer\n",
      "Anne::John\n",
      "schoolgirl::schoolboy\n",
      "granddaughter::grandson\n",
      "aunt::uncle\n",
      "matriarch::patriarch\n",
      "twin_sister::twin_brother\n",
      "mom::dad\n",
      "lesbian::gay\n",
      "husband::younger_brother\n",
      "gal::dude\n",
      "lady::gentleman\n",
      "sorority::fraternity\n",
      "mothers::fathers\n",
      "grandmother::grandfather\n",
      "blouse::shirt\n",
      "soprano::baritone\n",
      "queens::kings\n",
      "Jill::Greg\n",
      "daughters::sons\n",
      "grandma::grandpa\n",
      "volleyball::football\n",
      "diva::superstar\n",
      "mommy::kid\n",
      "Sarah::Matthew\n",
      "hairdresser::barber\n",
      "softball::baseball\n",
      "goddess::god\n",
      "Aisha::Jamal\n",
      "waitress::waiter\n",
      "princess::prince\n",
      "filly::colt\n",
      "mare::gelding\n",
      "ladies::gentlemen\n",
      "childhood::boyhood\n",
      "interior_designer::architect\n",
      "nun::priest\n",
      "wig::beard\n",
      "granddaughters::grandsons\n",
      "girlfriends::buddies\n",
      "gals::dudes\n",
      "aunts::uncles\n",
      "congresswoman::congressman\n",
      "feminism::conservatism\n",
      "bitch::bastard\n",
      "hers::yours\n",
      "bra::pants\n",
      "moms::dads\n",
      "nurse::surgeon\n",
      "heiress::magnate\n",
      "feminine::manly\n",
      "glamorous::flashy\n",
      "actresses::actors\n",
      "registered_nurse::physician\n",
      "cupcakes::pizzas\n",
      "blond::burly\n",
      "babe::fella\n",
      "mums::blokes\n",
      "gorgeous::magnificent\n",
      "compatriot::countryman\n",
      "fabulous::terrific\n",
      "breast::prostate\n",
      "starlet::youngster\n",
      "Laurie::Brett\n",
      "kids::guys\n",
      "sewing::carpentry\n",
      "kinda::guy\n",
      "headscarf::turban\n",
      "siblings::elder_brother\n",
      "charming::affable\n",
      "sassy::snappy\n",
      "cosmetics::pharmaceuticals\n",
      "estrogen::testosterone\n",
      "handbag::briefcase\n",
      "housewife::shopkeeper\n",
      "fillies::colts\n",
      "nieces::nephews\n",
      "whore::coward\n",
      "boyfriend::pal\n",
      "salon::barbershop\n",
      "Latonya::Leroy\n",
      "vagina::penis\n",
      "breast_cancer::lymphoma\n",
      "vocalist::guitarist\n",
      "me::him\n",
      "children::youngsters\n",
      "adorable::goofy\n",
      "giggling::grinning\n",
      "cheerful::jovial\n",
      "lovely::brilliant\n",
      "giggle::chuckle\n",
      "bras::trousers\n",
      "wedding_dress::tuxedo\n",
      "singer::frontman\n",
      "netball::rugby\n",
      "rebounder::playmaker\n",
      "vocalists::trumpeter\n",
      "nude::shirtless\n",
      "beautiful::majestic\n",
      "feisty::mild_mannered\n",
      "feminists::socialists\n",
      "nanny::chauffeur\n",
      "females::males\n",
      "pediatrician::orthopedic_surgeon\n",
      "teenage_girls::youths\n",
      "pink::red\n",
      "convent::monastery\n",
      "midwife::doctor\n",
      "feminist::liberal\n",
      "gown::blazer\n",
      "blonde::blond\n",
      "stepdaughter::stepson\n",
      "wonderful::great\n",
      "breasts::genitals\n",
      "luscious::crisp\n",
      "judgmental::arrogant\n",
      "skirts::shorts\n",
      "middle_aged::bearded\n",
      "spokespeople::spokesmen\n",
      "female::male\n",
      "beauty::grandeur\n",
      "salesperson::salesman\n",
      "witch::demon\n",
      "male_counterparts::counterparts\n",
      "violinist::virtuoso\n",
      "practicality::durability\n",
      "boobs::ass\n",
      "dolls::replicas\n",
      "husbands::wives\n",
      "ponytail::mustache\n",
      "sexism::racism\n",
      "mammogram::colonoscopy\n",
      "sweater::jersey\n",
      "hysterical::comical\n",
      "uterus::intestine\n",
      "rehearse::improvise\n",
      "classmates::teammates\n",
      "stroller::bicycle\n",
      "presenter::broadcaster\n",
      "friends::buddy\n",
      "dresses::shirts\n",
      "eating_disorders::alcoholism\n",
      "kindness::humility\n",
      "cute::clever\n",
      "sobbed::grinned\n",
      "baking::roasting\n",
      "sweaters::jerseys\n",
      "crafting::drafting\n",
      "nuns::monk\n",
      "lesbians::homosexual\n",
      "guidance_counselor::headmaster\n",
      "terrifying::fearsome\n",
      "libero::midfielders\n",
      "classmate::teammate\n",
      "underclassmen::players\n",
      "pianist::maestro\n",
      "boyfriends::friends\n",
      "teenager::lad\n",
      "giggles::chuckles\n",
      "gender::racial\n",
      "hair_salon::pizzeria\n",
      "pitcher::starter\n",
      "lovers::aficionados\n",
      "lingerie::menswear\n",
      "kittens::neutered\n",
      "latex::rubber\n",
      "dress::garb\n",
      "alluring::intriguing\n",
      "buns::sausages\n",
      "cosmetic_surgery::surgery\n",
      "foal::stallion\n",
      "sexy::nerdy\n",
      "delightful::superb\n",
      "cubs::lions\n",
      "self_esteem::morale\n",
      "rower::skipper\n",
      "bingo::gambling\n",
      "figure_skating::hockey\n",
      "stepmother::eldest_son\n",
      "swimwear::sportswear\n",
      "teen::youth\n",
      "gymnastics::weightlifting\n",
      "tissues::cartilage\n",
      "enchanting::splendid\n",
      "hooker::winger\n",
      "graphic_designer::carpenter\n",
      "layups::downfield\n",
      "sophomores::rookies\n",
      "singers::guitarists\n",
      "backcourt::playmakers\n",
      "hugs::shook_hands\n",
      "sexist::racist\n",
      "cheesecake::pizza\n",
      "sultry::mellow\n",
      "silicone::polymer\n",
      "gymnasts::athletes\n",
      "ribbons::flags\n",
      "captivating::electrifying\n",
      "gymnast::athlete\n",
      "cried::chuckled\n",
      "ethereal::brooding\n",
      "cats::pigeons\n",
      "implants::stents\n",
      "cougar::wolves\n",
      "fiance::cousin\n",
      "cheery::amiable\n",
      "servicemen::veterans\n",
      "hair::facial_hair\n",
      "sophomore::pounder\n",
      "midwives::doctors\n",
      "chairperson::managing_director\n",
      "meter_hurdles::yard_dash\n",
      "scream::boo\n",
      "glam::retro\n",
      "terrified::mad\n",
      "shrill::louder\n",
      "lupus::multiple_myeloma\n",
      "uptight::cocky\n",
      "hubby::pals\n",
      "exclaimed::quipped\n",
      "choreography::footwork\n",
      "veil::cloak\n",
      "panties::socks\n",
      "gowns::robes\n",
      "designers::architects\n",
      "foul_trouble::defensively\n",
      "amazing::unbelievable\n",
      "artistry::genius\n",
      "sensual::moody\n",
      "campers::camp\n",
      "Allison::Todd\n",
      "freaking::heck\n",
      "intuition::gut_feeling\n",
      "eating_disorder::addiction\n",
      "frontcourt::swingman\n",
      "hostess::bartender\n",
      "child_endangerment::aggravated_assault\n",
      "masculine::macho\n",
      "novelist::philosopher\n",
      "putback::yarder\n",
      "ex_boyfriend::ex_girlfriend\n",
      "incredibly::obviously\n",
      "beautify::rehabilitate\n",
      "designed::engineered\n",
      "mares::thoroughbred\n",
      "satin::leather\n",
      "hurler::lefthander\n",
      "bun::burger\n",
      "heartbreaking::humbling\n",
      "romantic_comedy::flick\n",
      "fourteen::eleven\n",
      "flight_attendant::pilots\n",
      "cupcake::donut\n",
      "glitter::confetti\n",
      "sobbing::smiled\n",
      "unassisted_goal::powerplay\n",
      "memoir::autobiography\n",
      "cigarette::cigar\n",
      "animal_cruelty::dogfighting\n",
      "baby::daddy\n",
      "outfits::uniforms\n",
      "bride::groom\n",
      "sprinter::speedster\n",
      "estranged_husband::stepfather\n",
      "singer_songwriter::musician\n",
      "entrepreneurs::businessmen\n",
      "grad::alumnus\n",
      "lover::enthusiast\n",
      "celebrities::superstars\n",
      "kissing::shaking_hands\n",
      "auditions::tryout\n",
      "backstretch::straightaway\n",
      "pregnancy::gestation\n",
      "librarian::curator\n",
      "anime::videogames\n",
      "heartbroken::dejected\n",
      "cervical_cancer::pancreatic_cancer\n",
      "regionals::playoffs\n",
      "Carrie::Laurie\n",
      "teenage_girl::teenager\n",
      "coworkers::colleagues\n",
      "sergeants::lieutenants\n",
      "paralegal::accountant\n",
      "stressful::frustrating\n",
      "duets::saxophonist\n",
      "plucky::hapless\n",
      "realtor::builder\n",
      "cocktails::beers\n",
      "closets::lockers\n",
      "doubleheader::game\n",
      "thighs::backside\n",
      "wellness::fitness\n",
      "giant_slalom::skied\n",
      "neurotic::eccentric\n",
      "coordinator::manager\n",
      "antiques::memorabilia\n",
      "dancers::drummers\n",
      "layup::touchdown_pass\n",
      "manga::comic_books\n",
      "horrified::disappointed\n",
      "empowering::motivating\n",
      "creepy::menacing\n",
      "insecurities::frustrations\n",
      "middle_blocker::leadoff_hitter\n",
      "adored::revered\n",
      "exercises::drills\n",
      "skirted::evaded\n",
      "jewelry::collectibles\n",
      "choral::composer\n",
      "confided::intimated\n",
      "dermatologist::neurosurgeon\n",
      "attractiveness::competitiveness\n",
      "housekeeper::janitor\n",
      "thyroid::inflammation\n",
      "vocals::drummer\n",
      "scarf::jacket\n",
      "burlesque::rock_n_roll\n",
      "athlete::player\n",
      "chic::minimalist\n",
      "cerebral_palsy::spinal_cord_injury\n",
      "horrid::woeful\n",
      "transgender::homophobic\n",
      "clique::inner_circle\n",
      "pampering::luxurious\n",
      "associate_professor::professor_emeritus\n",
      "sexuality::homosexuality\n",
      "reunite::rejoin\n",
      "caring::selfless\n",
      "freshman::redshirt_freshman\n",
      "plunging::slumping\n",
      "spokesperson::statement\n",
      "prostitution::drug_trafficking\n",
      "characters::villain\n",
      "therapist::neurologist\n",
      "maids::servants\n",
      "mama::ya\n",
      "delightfully::brilliantly\n",
      "boutiques::retail_outlets\n",
      "hormonal::metabolism\n",
      "puppy::bulldog\n",
      "pinch_runner::pinch_hitter\n",
      "behaviors::tendencies\n",
      "appalled::displeased\n",
      "forms::form\n",
      "nonprofit::organization\n",
      "tamoxifen::statins\n",
      "mysterious::enigmatic\n",
      "maternity::obstetrics\n",
      "mentors::mentor\n",
      "worker::foreman\n",
      "anorexia::depression\n",
      "critters::beasts\n",
      "feline::rodent\n",
      "stereotype::mentality\n",
      "starvation::famine\n",
      "fairy::magical\n",
      "gossip::rumor_mill\n",
      "confesses::concedes\n",
      "activists::supporters\n",
      "flower::ornamental\n",
      "contests::games\n",
      "procuring::acquiring\n",
      "silver_medalist::compatriot\n",
      "purse::wallet\n",
      "nurses::physicians\n",
      "sectionals::championship\n",
      "refill::recharge\n",
      "inadequate::ineffective\n",
      "prettiest::finest\n",
      "seatbelt::wearing_helmet\n",
      "rehearsal::improvisation\n",
      "interns::fellows\n",
      "adds::added\n",
      "harmonies::guitar\n",
      "comfy::comfortable\n",
      "menopause::heart_disease\n",
      "scripture::disciples\n",
      "cries::chants\n",
      "experimenting::tinkering\n",
      "underweight::underperform\n",
      "holistic_approach::approach\n",
      "costumes::props\n",
      "curves::curve\n",
      "bartender::bouncer\n",
      "seductive::mesmerizing\n",
      "clarinet::trombone\n",
      "transformative::visionary\n",
      "ok::alright\n",
      "unusual::unorthodox\n",
      "osteoporosis::atrial_fibrillation\n",
      "screams::roar\n",
      "incumbents::incumbent\n",
      "baseman::offensive_lineman\n",
      "strawberry::potato\n",
      "steals::tackles\n",
      "walker::crutches\n",
      "cook::grill\n",
      "workshop::meeting\n",
      "elegance::style\n",
      "emotionally::mentally\n",
      "beloved::legendary\n",
      "breast_milk::sperm\n",
      "minivan::pickup\n",
      "complainants::accusers\n",
      "knitting::yarn\n",
      "artisans::craftsmen\n",
      "strollers::scooters\n",
      "caseload::workload\n",
      "smile::grin\n",
      "helpful::useful\n",
      "caretakers::caretaker\n",
      "blokes::bloke\n",
      "provocative::incendiary\n",
      "ultrasound::x_ray\n",
      "colorful::flamboyant\n",
      "counselor::adviser\n",
      "borrower::loan\n",
      "brightness::sharpness\n",
      "staffing::manpower\n",
      "overwhelmed::frustrated\n",
      "bowlers::seamer\n",
      "bunny::monkey\n",
      "devotion::allegiance\n",
      "advocates::critics\n",
      "brides::weddings\n",
      "cigarettes::cigars\n",
      "dancer::entertainer\n",
      "relationships::rapport\n",
      "attitudes::mindset\n",
      "strives::wants\n",
      "bearish::bullish\n",
      "deadlines::deadline\n",
      "proponents::detractors\n",
      "pitchers::ballclub\n",
      "carriages::locomotive\n",
      "shortstop::fullback\n",
      "exhibit::exhibition\n",
      "credit_crunch::slump\n",
      "watchers::pundits\n",
      "hitter::southpaw\n",
      "scary::dangerous\n",
      "silver_medals::championships\n",
      "expiration_date::expires\n",
      "tenacious::hard_nosed\n",
      "gosh::yeah\n",
      "bright_colors::colors\n",
      "retro::throwback\n",
      "underpass::tunnel\n",
      "thrilled::confident\n",
      "warship::destroyer\n",
      "resignations::resignation\n",
      "reaffirmed::reiterated\n",
      "technical_fouls::ejection\n",
      "sheets::sheet\n",
      "makeover::revamp\n",
      "bookkeeper::treasurer\n",
      "callous::foolish\n",
      "dignified::honorable\n",
      "elegantly::superbly\n",
      "foods::foodstuffs\n",
      "cashier::robber\n",
      "assistant_professor::economics_professor\n",
      "downsize::restructure\n",
      "details::specifics\n",
      "healthful::healthy\n",
      "luminous::dazzling\n",
      "charm::swagger\n",
      "pastry::sausage\n",
      "free_throws::recovered_fumble\n",
      "naysayers::doubters\n",
      "embryo::embryonic\n",
      "stalker::pedophile\n",
      "hormones::growth_hormone\n",
      "irresponsibility::recklessness\n",
      "intangible_assets::intangibles\n",
      "descriptive::succinct\n",
      "screamed::shouted\n",
      "manipulative::devious\n",
      "audio_replay::replay\n"
     ]
    }
   ],
   "source": [
    "# analogies gender\n",
    "a_gender_debiased = E.get_analogy_based_thresh(v_gender)\n",
    "\n",
    "for (a,b,c) in a_gender_debiased:\n",
    "    print(a+\"::\"+b)"
   ]
  },
  {
   "cell_type": "code",
   "execution_count": null,
   "metadata": {},
   "outputs": [],
   "source": []
  }
 ],
 "metadata": {
  "kernelspec": {
   "display_name": "Python 3.10.6 ('mlenv')",
   "language": "python",
   "name": "python3"
  },
  "language_info": {
   "codemirror_mode": {
    "name": "ipython",
    "version": 3
   },
   "file_extension": ".py",
   "mimetype": "text/x-python",
   "name": "python",
   "nbconvert_exporter": "python",
   "pygments_lexer": "ipython3",
   "version": "3.10.6"
  },
  "vscode": {
   "interpreter": {
    "hash": "fbcb95cdd7b96986f8a6b4513d0727fdf068bea7f35926329fbbb1a252a3f92c"
   }
  }
 },
 "nbformat": 4,
 "nbformat_minor": 2
}
